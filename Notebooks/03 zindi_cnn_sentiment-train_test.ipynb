{
 "cells": [
  {
   "cell_type": "code",
   "execution_count": null,
   "metadata": {
    "id": "F3G9oRSZPLTi"
   },
   "outputs": [],
   "source": [
    "import pandas as pd\n",
    "import numpy as np\n",
    "import re\n",
    "import string\n",
    "from collections import Counter\n",
    "from sklearn.model_selection import train_test_split\n",
    "import gc"
   ]
  },
  {
   "cell_type": "code",
   "execution_count": null,
   "metadata": {
    "id": "wBD_fiYCPLUq"
   },
   "outputs": [],
   "source": [
    "import nltk\n",
    "from nltk.corpus import stopwords"
   ]
  },
  {
   "cell_type": "code",
   "execution_count": null,
   "metadata": {
    "id": "AIeWwMtuPLUw"
   },
   "outputs": [],
   "source": [
    "from  tensorflow.keras.preprocessing.text import Tokenizer,one_hot\n",
    "from  tensorflow.keras.preprocessing.sequence import pad_sequences\n",
    "from  tensorflow.keras.models import Sequential\n",
    "from  tensorflow.keras.layers import Dense,Dropout,Flatten,Conv1D,MaxPooling1D\n",
    "from  tensorflow.keras.layers import Embedding\n"
   ]
  },
  {
   "cell_type": "code",
   "execution_count": null,
   "metadata": {
    "id": "OENxfUL_PLU1"
   },
   "outputs": [],
   "source": [
    "from tensorflow.keras.layers import LeakyReLU,PReLU,ELU"
   ]
  },
  {
   "cell_type": "code",
   "execution_count": null,
   "metadata": {
    "id": "WtHU8dLDPLU5"
   },
   "outputs": [],
   "source": [
    "import tensorflow as tf"
   ]
  },
  {
   "cell_type": "code",
   "execution_count": null,
   "metadata": {
    "id": "vgmls3tnPLU9",
    "outputId": "c603cb68-d2ab-4c88-c20e-9b05142835dd"
   },
   "outputs": [
    {
     "data": {
      "text/plain": [
       "[PhysicalDevice(name='/physical_device:CPU:0', device_type='CPU'),\n",
       " PhysicalDevice(name='/physical_device:XLA_CPU:0', device_type='XLA_CPU'),\n",
       " PhysicalDevice(name='/physical_device:XLA_GPU:0', device_type='XLA_GPU')]"
      ]
     },
     "execution_count": 7,
     "metadata": {
      "tags": []
     },
     "output_type": "execute_result"
    }
   ],
   "source": [
    "tf.config.list_physical_devices()"
   ]
  },
  {
   "cell_type": "code",
   "execution_count": null,
   "metadata": {
    "id": "MQlVE4r2PLVK"
   },
   "outputs": [],
   "source": [
    "df = pd.read_csv('Train.csv')\n",
    "test = pd.read_csv('Test.csv')\n",
    "sub = pd.read_csv('SampleSubmission.csv')"
   ]
  },
  {
   "cell_type": "code",
   "execution_count": null,
   "metadata": {
    "id": "lDaNrFa6PLVO"
   },
   "outputs": [],
   "source": [
    "df = df[df.label != 0]"
   ]
  },
  {
   "cell_type": "code",
   "execution_count": null,
   "metadata": {
    "id": "tx9D2EiFPLVR"
   },
   "outputs": [],
   "source": [
    "tot_data = pd.concat([df,test])"
   ]
  },
  {
   "cell_type": "code",
   "execution_count": null,
   "metadata": {
    "id": "KvblpzshPLVU",
    "outputId": "61f3cf58-8f39-41a8-f44f-f826afba0e95"
   },
   "outputs": [
    {
     "data": {
      "text/html": [
       "<div>\n",
       "<style scoped>\n",
       "    .dataframe tbody tr th:only-of-type {\n",
       "        vertical-align: middle;\n",
       "    }\n",
       "\n",
       "    .dataframe tbody tr th {\n",
       "        vertical-align: top;\n",
       "    }\n",
       "\n",
       "    .dataframe thead th {\n",
       "        text-align: right;\n",
       "    }\n",
       "</style>\n",
       "<table border=\"1\" class=\"dataframe\">\n",
       "  <thead>\n",
       "    <tr style=\"text-align: right;\">\n",
       "      <th></th>\n",
       "      <th>ID</th>\n",
       "      <th>label</th>\n",
       "    </tr>\n",
       "  </thead>\n",
       "  <tbody>\n",
       "    <tr>\n",
       "      <th>0</th>\n",
       "      <td>2DDHQW9</td>\n",
       "      <td>0</td>\n",
       "    </tr>\n",
       "    <tr>\n",
       "      <th>1</th>\n",
       "      <td>5HY6UEY</td>\n",
       "      <td>0</td>\n",
       "    </tr>\n",
       "    <tr>\n",
       "      <th>2</th>\n",
       "      <td>ATNVUJX</td>\n",
       "      <td>0</td>\n",
       "    </tr>\n",
       "    <tr>\n",
       "      <th>3</th>\n",
       "      <td>Q9XYVOQ</td>\n",
       "      <td>0</td>\n",
       "    </tr>\n",
       "    <tr>\n",
       "      <th>4</th>\n",
       "      <td>TOAHLRH</td>\n",
       "      <td>0</td>\n",
       "    </tr>\n",
       "  </tbody>\n",
       "</table>\n",
       "</div>"
      ],
      "text/plain": [
       "        ID  label\n",
       "0  2DDHQW9      0\n",
       "1  5HY6UEY      0\n",
       "2  ATNVUJX      0\n",
       "3  Q9XYVOQ      0\n",
       "4  TOAHLRH      0"
      ]
     },
     "execution_count": 11,
     "metadata": {
      "tags": []
     },
     "output_type": "execute_result"
    }
   ],
   "source": [
    "sub.head()"
   ]
  },
  {
   "cell_type": "code",
   "execution_count": null,
   "metadata": {
    "id": "WkWIMSjOPLVY"
   },
   "outputs": [],
   "source": [
    "test_docs = test.text.values"
   ]
  },
  {
   "cell_type": "code",
   "execution_count": null,
   "metadata": {
    "id": "tPI6i_HVPLVb",
    "outputId": "7429b56f-5cc5-407d-f54a-20e330ac7ac1"
   },
   "outputs": [
    {
     "data": {
      "text/plain": [
       "(30000, 2)"
      ]
     },
     "execution_count": 13,
     "metadata": {
      "tags": []
     },
     "output_type": "execute_result"
    }
   ],
   "source": [
    "test.shape"
   ]
  },
  {
   "cell_type": "code",
   "execution_count": null,
   "metadata": {
    "id": "6TFr5C6MPLVe",
    "outputId": "babe7f9f-cfb3-451b-8d07-cec970259c00"
   },
   "outputs": [
    {
     "data": {
      "text/html": [
       "<div>\n",
       "<style scoped>\n",
       "    .dataframe tbody tr th:only-of-type {\n",
       "        vertical-align: middle;\n",
       "    }\n",
       "\n",
       "    .dataframe tbody tr th {\n",
       "        vertical-align: top;\n",
       "    }\n",
       "\n",
       "    .dataframe thead th {\n",
       "        text-align: right;\n",
       "    }\n",
       "</style>\n",
       "<table border=\"1\" class=\"dataframe\">\n",
       "  <thead>\n",
       "    <tr style=\"text-align: right;\">\n",
       "      <th></th>\n",
       "      <th>ID</th>\n",
       "      <th>text</th>\n",
       "      <th>label</th>\n",
       "    </tr>\n",
       "  </thead>\n",
       "  <tbody>\n",
       "    <tr>\n",
       "      <th>0</th>\n",
       "      <td>13P0QT0</td>\n",
       "      <td>3sbaaaaaaaaaaaaaaaaaaaa lek ou le seim riahi o...</td>\n",
       "      <td>-1</td>\n",
       "    </tr>\n",
       "    <tr>\n",
       "      <th>1</th>\n",
       "      <td>SKCLXCJ</td>\n",
       "      <td>cha3eb fey9elkoum menghir ta7ayoul ou kressi</td>\n",
       "      <td>-1</td>\n",
       "    </tr>\n",
       "    <tr>\n",
       "      <th>2</th>\n",
       "      <td>V1TVXIJ</td>\n",
       "      <td>bereau degage nathef ya slim walahi ya7chiw fi...</td>\n",
       "      <td>-1</td>\n",
       "    </tr>\n",
       "    <tr>\n",
       "      <th>3</th>\n",
       "      <td>U0TTYY8</td>\n",
       "      <td>ak slouma</td>\n",
       "      <td>1</td>\n",
       "    </tr>\n",
       "    <tr>\n",
       "      <th>4</th>\n",
       "      <td>68DX797</td>\n",
       "      <td>entom titmanou lina a7na 3iid moubarik a7na ch...</td>\n",
       "      <td>-1</td>\n",
       "    </tr>\n",
       "  </tbody>\n",
       "</table>\n",
       "</div>"
      ],
      "text/plain": [
       "        ID                                               text  label\n",
       "0  13P0QT0  3sbaaaaaaaaaaaaaaaaaaaa lek ou le seim riahi o...     -1\n",
       "1  SKCLXCJ       cha3eb fey9elkoum menghir ta7ayoul ou kressi     -1\n",
       "2  V1TVXIJ  bereau degage nathef ya slim walahi ya7chiw fi...     -1\n",
       "3  U0TTYY8                                          ak slouma      1\n",
       "4  68DX797  entom titmanou lina a7na 3iid moubarik a7na ch...     -1"
      ]
     },
     "execution_count": 14,
     "metadata": {
      "tags": []
     },
     "output_type": "execute_result"
    }
   ],
   "source": [
    "df.head()"
   ]
  },
  {
   "cell_type": "code",
   "execution_count": null,
   "metadata": {
    "id": "XjUHZyRVPLVi"
   },
   "outputs": [],
   "source": [
    "X = df.text.values\n",
    "y =  df.label.values\n",
    "X_train_docs, X_test_docs, y_train, y_test = train_test_split(X, y, test_size=0.001,stratify = y,random_state=42)"
   ]
  },
  {
   "cell_type": "code",
   "execution_count": null,
   "metadata": {
    "id": "JsjAxPFRPLVk",
    "outputId": "e835b492-cc77-442a-bd5c-5bf0fd5e0d7b"
   },
   "outputs": [
    {
     "data": {
      "text/plain": [
       "(67466,)"
      ]
     },
     "execution_count": 16,
     "metadata": {
      "tags": []
     },
     "output_type": "execute_result"
    }
   ],
   "source": [
    "X_train_docs.shape"
   ]
  },
  {
   "cell_type": "code",
   "execution_count": null,
   "metadata": {
    "id": "TOwlLcq9PLVn"
   },
   "outputs": [],
   "source": [
    "def clean_not_alpha_numeric(token):\n",
    "    if not token.isalpha():\n",
    "        token = token[:4]\n",
    "        return token\n",
    "    else:\n",
    "        return token"
   ]
  },
  {
   "cell_type": "code",
   "execution_count": null,
   "metadata": {
    "id": "Lw_aE-YjPLVq"
   },
   "outputs": [],
   "source": [
    "def clean_doc(text):\n",
    "    tokens = text.split()\n",
    "    re_punct = re.compile('[%s]' % re.escape(string.punctuation))\n",
    "    tokens = [re_punct.sub('',word) for word in tokens]\n",
    "    tokens = [words for words in tokens if len(words) > 1]\n",
    "    stop_words = stopwords.words('french')\n",
    "    #tokens = [word for word in tokens if not word in stop_words]\n",
    "    tokens = [clean_not_alpha_numeric(word) for word in tokens]\n",
    "    #tokens = [word for word in tokens if word.isalpha()]\n",
    "    \n",
    "    return tokens"
   ]
  },
  {
   "cell_type": "code",
   "execution_count": null,
   "metadata": {
    "id": "ffvTc4CJPLVt"
   },
   "outputs": [],
   "source": [
    "def check_isalpha(text):\n",
    "    token = [token for token in text.split() if not token.isalpha()]\n",
    "    token = [clean_not_alpha_numeric(word) for word in token]\n",
    "    return token"
   ]
  },
  {
   "cell_type": "code",
   "execution_count": null,
   "metadata": {
    "id": "7VzAh2uYPLVv"
   },
   "outputs": [],
   "source": [
    "def process_data(array,vocab):\n",
    "    for i in range(len(array)):\n",
    "        text = array[i]\n",
    "        tokens = clean_doc(text)\n",
    "        vocab.update(tokens)"
   ]
  },
  {
   "cell_type": "code",
   "execution_count": null,
   "metadata": {
    "id": "L3pnr3MdPLVy"
   },
   "outputs": [],
   "source": [
    "vocab = Counter()\n",
    "text_data = tot_data.text.values\n",
    "process_data(text_data,vocab)"
   ]
  },
  {
   "cell_type": "code",
   "execution_count": null,
   "metadata": {
    "id": "KOS9699iPLV1",
    "outputId": "a6f3f796-69e6-4752-960a-d4ce6043a760"
   },
   "outputs": [
    {
     "name": "stdout",
     "output_type": "stream",
     "text": [
      "[('ya', 12730), ('fi', 12687), ('el', 11054), ('slim', 9583), ('rabi', 8992), ('si', 5007), ('ca', 4371), ('kol', 4350), ('bech', 4328), ('m3ak', 4199), ('bravo', 4025), ('ma', 3992), ('ken', 3816), ('3la', 3788), ('la', 3705), ('allah', 3560), ('ou', 3195), ('men', 3113), ('slouma', 3086), ('il', 3005), ('eli', 2806), ('m3al', 2618), ('le', 2548), ('ama', 2533), ('3ala', 2497), ('rabbi', 2495), ('jam3', 2303), ('enti', 2208), ('3and', 2200), ('barcha', 2177), ('et', 2176), ('ki', 2076), ('min', 2039), ('3lik', 1983), ('dima', 1950), ('tounes', 1948), ('fih', 1925), ('tawa', 1923), ('mabrouk', 1921), ('cha3', 1915), ('elli', 1853), ('wa', 1808), ('li', 1779), ('les', 1770), ('fil', 1750), ('chay', 1739), ('mouch', 1724), ('we', 1719), ('ena', 1709), ('de', 1700), ('mta3', 1690), ('ti', 1685), ('riahi', 1677), ('club', 1604), ('ye', 1572), ('mala', 1553), ('ana', 1537), ('brabi', 1524), ('3am', 1505), ('fel', 1482), ('m3a', 1467), ('taw', 1453), ('ili', 1378), ('chkoun', 1367), ('3lih', 1364), ('inti', 1357), ('kan', 1347), ('ma3a', 1339), ('kima', 1328), ('ala', 1295), ('kif', 1276), ('5ir', 1270), ('3al', 1265), ('en', 1229), ('wala', 1225), ('nchallah', 1196), ('a7na', 1181), ('rajel', 1153), ('bel', 1121), ('bara', 1100), ('inchallah', 1085), ('wlh', 1073), ('rou7', 1067), ('7aja', 1067), ('wel', 1062), ('yar7', 1054), ('ben', 1050), ('lkol', 1050), ('est', 1046), ('haka', 1033), ('hhhh', 1028), ('al', 1021), ('mel', 998), ('howa', 989), ('fik', 981), ('7ata', 963), ('mte3', 961), ('lel', 959), ('mais', 946), ('ya3t', 936)]\n"
     ]
    }
   ],
   "source": [
    "print(vocab.most_common(100))"
   ]
  },
  {
   "cell_type": "code",
   "execution_count": null,
   "metadata": {
    "id": "w6FQctOxPLV4"
   },
   "outputs": [],
   "source": [
    "min_occurence = 2\n",
    "\n",
    "tokens = [k for k,c in vocab.items() if c >=min_occurence]"
   ]
  },
  {
   "cell_type": "code",
   "execution_count": null,
   "metadata": {
    "id": "BAK920hxPLV7",
    "outputId": "5e7c88ac-7dad-4047-97a2-70f911d16fac"
   },
   "outputs": [
    {
     "name": "stdout",
     "output_type": "stream",
     "text": [
      "45861\n"
     ]
    }
   ],
   "source": [
    "print(len(tokens))"
   ]
  },
  {
   "cell_type": "markdown",
   "metadata": {
    "id": "o9_KSWMePLV-"
   },
   "source": [
    "tokens"
   ]
  },
  {
   "cell_type": "code",
   "execution_count": null,
   "metadata": {
    "id": "2QDJtDSQPLWA"
   },
   "outputs": [],
   "source": [
    "def save_list(lines,filename):\n",
    "    data = '\\n'.join(lines)\n",
    "    file = open(filename,'w',encoding=\"utf-8\")\n",
    "    file.write(data)\n",
    "    file.close()"
   ]
  },
  {
   "cell_type": "code",
   "execution_count": null,
   "metadata": {
    "id": "G3DYxxxMPLWE"
   },
   "outputs": [],
   "source": [
    "import io"
   ]
  },
  {
   "cell_type": "markdown",
   "metadata": {
    "id": "khkf081MPLWF"
   },
   "source": [
    "def save_list(lines,filename):\n",
    "    data = '\\n'.join(lines)\n",
    "    with io.open(filename,'w', encoding=\"utf-8\") as file:\n",
    "        file.write(data)\n",
    "    #file.close()"
   ]
  },
  {
   "cell_type": "markdown",
   "metadata": {
    "id": "wf_2GvDXPLWI"
   },
   "source": [
    "save_list(tokens,'vocab.txt')"
   ]
  },
  {
   "cell_type": "code",
   "execution_count": null,
   "metadata": {
    "id": "BfNwbiPAPLWL"
   },
   "outputs": [],
   "source": [
    "def load_doc(filename):\n",
    "    file  = open(filename,'r')\n",
    "    text = file.read()\n",
    "    file.close()\n",
    "    return text"
   ]
  },
  {
   "cell_type": "code",
   "execution_count": null,
   "metadata": {
    "id": "tFuB1MidPLWO"
   },
   "outputs": [],
   "source": [
    "vocab =  tokens"
   ]
  },
  {
   "cell_type": "markdown",
   "metadata": {
    "id": "LsUmhjfjPLWQ"
   },
   "source": [
    "vocab = vocab.split()"
   ]
  },
  {
   "cell_type": "code",
   "execution_count": null,
   "metadata": {
    "id": "8xLjH9r0PLWS",
    "outputId": "f99b779c-afaa-4193-9d64-62a48150cb0b"
   },
   "outputs": [
    {
     "data": {
      "text/plain": [
       "45861"
      ]
     },
     "execution_count": 28,
     "metadata": {
      "tags": []
     },
     "output_type": "execute_result"
    }
   ],
   "source": [
    "len(vocab)"
   ]
  },
  {
   "cell_type": "code",
   "execution_count": null,
   "metadata": {
    "id": "0tS_RlwXPLWV"
   },
   "outputs": [],
   "source": [
    "def process_data_train_test(array,vocab):\n",
    "    total_array = list()\n",
    "    for i in range(len(array)):\n",
    "        text = array[i]\n",
    "        tokens = clean_doc(text)\n",
    "        tokens =  [word for word in tokens if word in vocab]\n",
    "        total_array.append(tokens)\n",
    "    return total_array"
   ]
  },
  {
   "cell_type": "code",
   "execution_count": null,
   "metadata": {
    "id": "FW9XWwTwPLWY"
   },
   "outputs": [],
   "source": [
    "X_train_docs = process_data_train_test(X_train_docs,vocab)\n",
    "X_test_docs = process_data_train_test(X_test_docs,vocab)\n"
   ]
  },
  {
   "cell_type": "code",
   "execution_count": null,
   "metadata": {
    "id": "CUjUtsZ6PLWa"
   },
   "outputs": [],
   "source": [
    "test_docs = process_data_train_test(test_docs,vocab)"
   ]
  },
  {
   "cell_type": "code",
   "execution_count": null,
   "metadata": {
    "id": "oB0XtW1jPLWe"
   },
   "outputs": [],
   "source": [
    "def creat_tokenizer(train_docs):\n",
    "    tokenizer = Tokenizer()\n",
    "    tokenizer.fit_on_texts(train_docs)\n",
    "    return tokenizer"
   ]
  },
  {
   "cell_type": "code",
   "execution_count": null,
   "metadata": {
    "id": "qZZuT1dGPLWg"
   },
   "outputs": [],
   "source": [
    "tot_docs = list()\n",
    "tot_docs.extend(X_train_docs)\n",
    "tot_docs.extend(X_test_docs)\n",
    "tot_docs.extend(test_docs)"
   ]
  },
  {
   "cell_type": "code",
   "execution_count": null,
   "metadata": {
    "id": "2WSKYLA3PLWi",
    "outputId": "b5e365e1-5dcf-40cd-9ac0-9d4ed1285537"
   },
   "outputs": [
    {
     "data": {
      "text/plain": [
       "97534"
      ]
     },
     "execution_count": 34,
     "metadata": {
      "tags": []
     },
     "output_type": "execute_result"
    }
   ],
   "source": [
    "len(tot_docs)"
   ]
  },
  {
   "cell_type": "code",
   "execution_count": null,
   "metadata": {
    "id": "daiVn8WQPLWl",
    "outputId": "1c38479c-0369-4402-9fd9-0732a22ff470"
   },
   "outputs": [
    {
     "name": "stdout",
     "output_type": "stream",
     "text": [
      "Maximum length: 1345\n"
     ]
    }
   ],
   "source": [
    "max_length = max([len(s) for s in X_train_docs[:]])\n",
    "print('Maximum length: %d' % max_length)"
   ]
  },
  {
   "cell_type": "code",
   "execution_count": null,
   "metadata": {
    "id": "2K7Q0xuZPLWp",
    "outputId": "c52b699c-5bc8-4fe4-abb2-d3568b61b2aa"
   },
   "outputs": [
    {
     "name": "stdout",
     "output_type": "stream",
     "text": [
      "Maximum length: 1345\n"
     ]
    }
   ],
   "source": [
    "max_length = max([len(s) for s in tot_docs])\n",
    "print('Maximum length: %d' % max_length)"
   ]
  },
  {
   "cell_type": "code",
   "execution_count": null,
   "metadata": {
    "id": "vtoVnP4iPLWs"
   },
   "outputs": [],
   "source": [
    "def encode_docs(tokenizer, max_length, docs):\n",
    "    # integer encode\n",
    "    encoded = tokenizer.texts_to_sequences(docs)\n",
    "    # pad sequences\n",
    "    padded = pad_sequences(encoded, maxlen=max_length, padding='post')\n",
    "    return padded"
   ]
  },
  {
   "cell_type": "code",
   "execution_count": null,
   "metadata": {
    "id": "UdgwcGssPLWv"
   },
   "outputs": [],
   "source": [
    "# Create Tokenizer\n",
    "tokenizer = creat_tokenizer(X_train_docs)"
   ]
  },
  {
   "cell_type": "code",
   "execution_count": null,
   "metadata": {
    "id": "A5aLHc75PLWx",
    "outputId": "4ac7da6a-5605-48ee-ace7-07fc2005366d"
   },
   "outputs": [
    {
     "name": "stdout",
     "output_type": "stream",
     "text": [
      "45859\n"
     ]
    }
   ],
   "source": [
    "vocab_size = len(tokenizer.word_index) + 1 \n",
    "print(vocab_size)"
   ]
  },
  {
   "cell_type": "code",
   "execution_count": null,
   "metadata": {
    "id": "aRChCtkqPLW0"
   },
   "outputs": [],
   "source": [
    "X_train = encode_docs(tokenizer, max_length, X_train_docs)\n",
    "X_test = encode_docs(tokenizer, max_length, X_test_docs)\n",
    "test_data = encode_docs(tokenizer, max_length, test_docs)"
   ]
  },
  {
   "cell_type": "code",
   "execution_count": null,
   "metadata": {
    "id": "KuQuvW30PLW3"
   },
   "outputs": [],
   "source": [
    "def define_model(vocab_size, max_length):\n",
    "    model = Sequential()\n",
    "    model.add(Embedding(vocab_size, 100, input_length=max_length))\n",
    "    model.add(Conv1D(filters=32, kernel_size=8, activation='relu'))\n",
    "    model.add(MaxPooling1D(pool_size=2))\n",
    "    model.add(Flatten())\n",
    "    model.add(Dense(10, activation='relu'))\n",
    "    model.add(Dense(3, activation='softmax'))\n",
    "    # compile network\n",
    "    model.compile(loss='binary_crossentropy', optimizer='adam', metrics=['accuracy'])\n",
    "    # summarize defined model\n",
    "    model.summary()\n",
    "    return model"
   ]
  },
  {
   "cell_type": "code",
   "execution_count": null,
   "metadata": {
    "id": "RskYjdamPLW7"
   },
   "outputs": [],
   "source": [
    "def define_model(vocab_size, max_length):\n",
    "    model = Sequential()\n",
    "    model.add(Embedding(vocab_size, 100, input_length=max_length))\n",
    "    model.add(Conv1D(filters=32, kernel_size=8, activation='relu'))\n",
    "    model.add(MaxPooling1D(pool_size=2))\n",
    "    model.add(Flatten())\n",
    "    model.add(Dense(10, activation='relu'))\n",
    "    model.add(Dense(3, activation='sigmoid'))\n",
    "    # compile network\n",
    "    model.compile(loss='binary_crossentropy', optimizer='adam', metrics=['accuracy'])\n",
    "    # summarize defined model\n",
    "    model.summary()\n",
    "    return model"
   ]
  },
  {
   "cell_type": "markdown",
   "metadata": {
    "id": "Yyw1BBMCPLW_"
   },
   "source": [
    "del X_train,X_test,test_data\n",
    "gc.collect()"
   ]
  },
  {
   "cell_type": "markdown",
   "metadata": {
    "id": "LtUO9-ALPLXB"
   },
   "source": [
    "del X_train_docs,X_test_docs,test_docs\n",
    "gc.collect()"
   ]
  },
  {
   "cell_type": "code",
   "execution_count": null,
   "metadata": {
    "id": "zsrV2fayPLXD",
    "outputId": "12fbe179-40cb-4342-c2d2-bb7425c791b8"
   },
   "outputs": [
    {
     "data": {
      "text/plain": [
       "1812"
      ]
     },
     "execution_count": 96,
     "metadata": {
      "tags": []
     },
     "output_type": "execute_result"
    }
   ],
   "source": [
    "gc.collect()"
   ]
  },
  {
   "cell_type": "markdown",
   "metadata": {
    "id": "ltRln-j3PLXG"
   },
   "source": [
    "# `Building the model`"
   ]
  },
  {
   "cell_type": "code",
   "execution_count": null,
   "metadata": {
    "id": "Zj_5rePWPLXI"
   },
   "outputs": [],
   "source": [
    "from sklearn.preprocessing import OneHotEncoder"
   ]
  },
  {
   "cell_type": "code",
   "execution_count": null,
   "metadata": {
    "id": "kgVPtUBWPLXL"
   },
   "outputs": [],
   "source": [
    "import random\n",
    "import tensorflow as tf\n",
    "import os\n",
    "import numpy as np\n",
    "def fix_randomness(seed_value = 42):\n",
    "    os.environ['TF_DETERMINISTIC_OPS'] = '1'\n",
    "    os.environ['PYTHONHASHSEED']=str(seed_value)\n",
    "    random.seed(seed_value)\n",
    "    np.random.seed(seed_value)\n",
    "    tf.random.set_seed(seed_value)"
   ]
  },
  {
   "cell_type": "code",
   "execution_count": null,
   "metadata": {
    "id": "lrPBK3g6PLXP",
    "outputId": "067c6c52-37cf-42ae-b739-6e89f65429f7"
   },
   "outputs": [
    {
     "data": {
      "text/plain": [
       "60780"
      ]
     },
     "execution_count": 65,
     "metadata": {
      "tags": []
     },
     "output_type": "execute_result"
    }
   ],
   "source": [
    "len(y_train)"
   ]
  },
  {
   "cell_type": "code",
   "execution_count": null,
   "metadata": {
    "id": "CgW0WKlGPLXV"
   },
   "outputs": [],
   "source": [
    "one_hot = OneHotEncoder(sparse=False)\n",
    "one_hot.fit(y_train.reshape(-1,1))\n",
    "y_train_  = one_hot.transform(y_train.reshape(-1,1))\n",
    "y_test_  = one_hot.transform(y_test.reshape(-1,1))"
   ]
  },
  {
   "cell_type": "markdown",
   "metadata": {
    "id": "5IngzE77PLXZ"
   },
   "source": [
    "y_train = pd.DataFrame(y_train).replace({1:0,-1:1}).values\n",
    "y_test = pd.DataFrame(y_test).replace({1:0,-1:1}).values"
   ]
  },
  {
   "cell_type": "code",
   "execution_count": null,
   "metadata": {
    "id": "3bbvj0zNPLXa",
    "outputId": "1203aea8-d9ad-4308-a0d2-84649f2f0b28"
   },
   "outputs": [
    {
     "name": "stdout",
     "output_type": "stream",
     "text": [
      "Model: \"sequential_4\"\n",
      "_________________________________________________________________\n",
      "Layer (type)                 Output Shape              Param #   \n",
      "=================================================================\n",
      "embedding_4 (Embedding)      (None, 1345, 100)         4585900   \n",
      "_________________________________________________________________\n",
      "conv1d_4 (Conv1D)            (None, 1338, 32)          25632     \n",
      "_________________________________________________________________\n",
      "max_pooling1d_4 (MaxPooling1 (None, 669, 32)           0         \n",
      "_________________________________________________________________\n",
      "flatten_4 (Flatten)          (None, 21408)             0         \n",
      "_________________________________________________________________\n",
      "dense_8 (Dense)              (None, 10)                214090    \n",
      "_________________________________________________________________\n",
      "dense_9 (Dense)              (None, 2)                 22        \n",
      "=================================================================\n",
      "Total params: 4,825,644\n",
      "Trainable params: 4,825,644\n",
      "Non-trainable params: 0\n",
      "_________________________________________________________________\n",
      "1900/1900 [==============================] - 98s 51ms/step - loss: 0.4332 - accuracy: 0.7892 - val_loss: 0.3674 - val_accuracy: 0.8311\n",
      "Wall time: 1min 38s\n"
     ]
    }
   ],
   "source": [
    "%%time\n",
    "fix_randomness()\n",
    "model = define_model(vocab_size, max_length)\n",
    "model.fit(X_train,y_train_,validation_data = (X_test,y_test_),batch_size =  32,epochs=1,verbose=1)"
   ]
  },
  {
   "cell_type": "markdown",
   "metadata": {
    "id": "hHQ77TPzPLXf"
   },
   "source": [
    "`@@@@@@@@@ loss: 0.5395 - accuracy: 0.7747 - val_loss: 0.4849 - val_accuracy: 0.8009 bs = 8`"
   ]
  },
  {
   "cell_type": "markdown",
   "metadata": {
    "id": "DvmeS-8bPLXh"
   },
   "source": [
    "`loss: 0.3397 - accuracy: 0.7661 - val_loss: 0.2965 - val_accuracy: 0.8047 === 0.7974 binary 0.05tr statify`"
   ]
  },
  {
   "cell_type": "markdown",
   "metadata": {
    "id": "h2wEtpkZPLXk"
   },
   "source": [
    "`loss: 0.5399 - accuracy: 0.7746 - val_loss: 0.4818 - val_accuracy: 0.7970 === 300 ep === 0.7986 binary 0.1tr statify`"
   ]
  },
  {
   "cell_type": "markdown",
   "metadata": {
    "id": "4UXXqO2_PLXm"
   },
   "source": [
    "`loss: 0.5398 - accuracy: 0.7747 - val_loss: 0.4811 - val_accuracy: 0.7973 === 300 ep === 0.7994 binary 0.1tr statify`"
   ]
  },
  {
   "cell_type": "markdown",
   "metadata": {
    "id": "Euq_pY_5PLXp"
   },
   "source": [
    "`loss: 0.5395 - accuracy: 0.7745 - val_loss: 0.4872 - val_accuracy: 0.8030 === 300 ep === 0.7964666 binary 0.1tr no statify`"
   ]
  },
  {
   "cell_type": "markdown",
   "metadata": {
    "id": "epHiY2cBPLXq"
   },
   "source": [
    "`loss: 0.5395 - accuracy: 0.7747 - val_loss: 0.4849 - val_accuracy: 0.8009 === 300 ep === 0.7984 binary 0.001tr`"
   ]
  },
  {
   "cell_type": "markdown",
   "metadata": {
    "id": "WgjHipPpPLXs"
   },
   "source": [
    "`loss: 0.5478 - accuracy: 0.7687 - val_loss: 0.4911 - val_accuracy: 0.7970 === 300  freq`"
   ]
  },
  {
   "cell_type": "markdown",
   "metadata": {
    "id": "WNF2dRLhPLXu"
   },
   "source": [
    "`loss: 0.5556 - accuracy: 0.7751 - val_loss: 0.4931 - val_accuracy: 0.7986  tfidf`"
   ]
  },
  {
   "cell_type": "markdown",
   "metadata": {
    "id": "ipmYHkFhPLXx"
   },
   "source": [
    "`loss: 0.5427 - accuracy: 0.7747 - val_loss: 0.4830 - val_accuracy: 0.7961  count`"
   ]
  },
  {
   "cell_type": "markdown",
   "metadata": {
    "id": "ewC0lUn5PLXz"
   },
   "source": [
    "`loss: 0.5562 - accuracy: 0.7752 - val_loss: 0.4961 - val_accuracy: 0.7984 === 500 ep`"
   ]
  },
  {
   "cell_type": "markdown",
   "metadata": {
    "id": "4Xuc0CN4PLX1"
   },
   "source": [
    "`loss: 0.5598 - accuracy: 0.7730 - val_loss: 0.5029 - val_accuracy: 0.7976 === 0.7966`"
   ]
  },
  {
   "cell_type": "markdown",
   "metadata": {
    "id": "ZRYHn9BQPLX4"
   },
   "source": [
    "`loss: 0.5652 - accuracy: 0.7692 - val_loss: 0.5095 - val_accuracy: 0.7943 === 0.79413`"
   ]
  },
  {
   "cell_type": "code",
   "execution_count": null,
   "metadata": {
    "id": "ksfoffDKPLX6",
    "outputId": "84ba64af-0fb2-46ba-88b2-21efc61853b7"
   },
   "outputs": [
    {
     "data": {
      "text/plain": [
       "0.002066029999999941"
      ]
     },
     "execution_count": 49,
     "metadata": {
      "tags": []
     },
     "output_type": "execute_result"
    }
   ],
   "source": [
    "0.805066 - .80299997 "
   ]
  },
  {
   "cell_type": "code",
   "execution_count": null,
   "metadata": {
    "id": "lcslqz7aPLX9",
    "outputId": "917c8b64-54a1-44e8-e0ea-ce37b0b77260"
   },
   "outputs": [
    {
     "data": {
      "text/plain": [
       "0.8067660299999999"
      ]
     },
     "execution_count": 50,
     "metadata": {
      "tags": []
     },
     "output_type": "execute_result"
    }
   ],
   "source": [
    "0.8047 + 0.002066029999999941"
   ]
  },
  {
   "cell_type": "code",
   "execution_count": null,
   "metadata": {
    "id": "hQwJFjE1PLYB",
    "outputId": "8fdf640f-47d2-409c-ddd3-3d68d11bc763"
   },
   "outputs": [
    {
     "data": {
      "text/plain": [
       "0.00017000000000000348"
      ]
     },
     "execution_count": 51,
     "metadata": {
      "tags": []
     },
     "output_type": "execute_result"
    }
   ],
   "source": [
    "0.7943 - 0.79413"
   ]
  },
  {
   "cell_type": "code",
   "execution_count": null,
   "metadata": {
    "id": "7SXYHNHaPLYE",
    "outputId": "ea8452e9-dbe1-41d8-c094-7c633ae743b9"
   },
   "outputs": [
    {
     "data": {
      "text/plain": [
       "0.0010000000000000009"
      ]
     },
     "execution_count": 52,
     "metadata": {
      "tags": []
     },
     "output_type": "execute_result"
    }
   ],
   "source": [
    "0.7976 - 0.7966"
   ]
  },
  {
   "cell_type": "code",
   "execution_count": null,
   "metadata": {
    "id": "z_Rc51QqPLYH",
    "outputId": "afcee245-a91a-458c-ff42-3b13fd5733c6"
   },
   "outputs": [
    {
     "data": {
      "text/plain": [
       "0.7926"
      ]
     },
     "execution_count": 53,
     "metadata": {
      "tags": []
     },
     "output_type": "execute_result"
    }
   ],
   "source": [
    "0.7976 - 0.0050"
   ]
  },
  {
   "cell_type": "code",
   "execution_count": null,
   "metadata": {
    "id": "jny_z47fPLYK",
    "outputId": "c0038ff9-7014-495a-bc7f-6ac5b933c1f5"
   },
   "outputs": [
    {
     "data": {
      "text/plain": [
       "0.7913"
      ]
     },
     "execution_count": 54,
     "metadata": {
      "tags": []
     },
     "output_type": "execute_result"
    }
   ],
   "source": [
    "0.7963 - 0.0050"
   ]
  },
  {
   "cell_type": "code",
   "execution_count": null,
   "metadata": {
    "id": "bhEObUHiPLYO",
    "outputId": "7c09f7e1-42dd-4ef4-bb79-881cbd352008"
   },
   "outputs": [
    {
     "data": {
      "text/plain": [
       "0.7889"
      ]
     },
     "execution_count": 55,
     "metadata": {
      "tags": []
     },
     "output_type": "execute_result"
    }
   ],
   "source": [
    " 0.7939 - 0.0050"
   ]
  },
  {
   "cell_type": "code",
   "execution_count": null,
   "metadata": {
    "id": "kMlWNqppPLYS",
    "outputId": "d7dcaf27-e7b7-4c10-9fe0-c96c040ddc85"
   },
   "outputs": [
    {
     "data": {
      "text/plain": [
       "0.005099999999999993"
      ]
     },
     "execution_count": 56,
     "metadata": {
      "tags": []
     },
     "output_type": "execute_result"
    }
   ],
   "source": [
    "0.7907 - 0.7856\n"
   ]
  },
  {
   "cell_type": "code",
   "execution_count": null,
   "metadata": {
    "id": "e7FrHgFePLYV",
    "outputId": "4c240176-d682-4c97-ac54-92cb1c014497"
   },
   "outputs": [
    {
     "data": {
      "text/plain": [
       "0.7865099999999999"
      ]
     },
     "execution_count": 57,
     "metadata": {
      "tags": []
     },
     "output_type": "execute_result"
    }
   ],
   "source": [
    "0.7916 - 0.00509"
   ]
  },
  {
   "cell_type": "code",
   "execution_count": null,
   "metadata": {
    "id": "6Gz1WiOIPLYY",
    "outputId": "188a62f8-84c2-4ad3-d2b6-10b651112038"
   },
   "outputs": [
    {
     "data": {
      "text/plain": [
       "0.005199999999999982"
      ]
     },
     "execution_count": 58,
     "metadata": {
      "tags": []
     },
     "output_type": "execute_result"
    }
   ],
   "source": [
    " 0.7666 - 0.7614"
   ]
  },
  {
   "cell_type": "code",
   "execution_count": null,
   "metadata": {
    "id": "EGvfLZ52PLYb",
    "outputId": "a487bbcf-6dd8-486b-c2b6-12f8ce8e3e61"
   },
   "outputs": [
    {
     "data": {
      "text/plain": [
       "0.0049722966666669866"
      ]
     },
     "execution_count": 59,
     "metadata": {
      "tags": []
     },
     "output_type": "execute_result"
    }
   ],
   "source": [
    " 0.75770563 -0.752733333333333\n"
   ]
  },
  {
   "cell_type": "code",
   "execution_count": null,
   "metadata": {
    "id": "YaOhfo5HPLYe",
    "outputId": "ec7b1f2c-d163-4e0a-d18d-0d58860c761e"
   },
   "outputs": [
    {
     "name": "stdout",
     "output_type": "stream",
     "text": [
      "Test Accuracy: 83.076698\n"
     ]
    }
   ],
   "source": [
    "# evaluate\n",
    "loss, acc = model.evaluate(X_test, y_test, verbose=0)\n",
    "print('Test Accuracy: %f' % (acc*100))"
   ]
  },
  {
   "cell_type": "code",
   "execution_count": null,
   "metadata": {
    "id": "Gj1XksX6PLYi"
   },
   "outputs": [],
   "source": [
    "# evaluate\n",
    "loss, acc = model.evaluate(X_test, y_test_, verbose=0)\n",
    "print('Test Accuracy: %f' % (acc*100))"
   ]
  },
  {
   "cell_type": "markdown",
   "metadata": {
    "id": "vPiyNh4_PLYl"
   },
   "source": [
    "test_pred =np.argmax(model.predict(test_data), axis=-1)\n",
    "test_pred"
   ]
  },
  {
   "cell_type": "markdown",
   "metadata": {
    "id": "B1OPeFsWPLYn"
   },
   "source": [
    "%%time \n",
    "test_pred =np.argmax(model.predict(test_data), axis=-1)\n",
    "test_pred"
   ]
  },
  {
   "cell_type": "code",
   "execution_count": null,
   "metadata": {
    "id": "lxECIrFmPLYp"
   },
   "outputs": [],
   "source": [
    "gc.collect()"
   ]
  },
  {
   "cell_type": "code",
   "execution_count": null,
   "metadata": {
    "id": "nbf5yc_gPLYr",
    "outputId": "cc099470-de0c-4d93-f79f-eaa054a2bf75"
   },
   "outputs": [
    {
     "name": "stdout",
     "output_type": "stream",
     "text": [
      "WARNING:tensorflow:From <timed exec>:1: Sequential.predict_classes (from tensorflow.python.keras.engine.sequential) is deprecated and will be removed after 2021-01-01.\n",
      "Instructions for updating:\n",
      "Please use instead:* `np.argmax(model.predict(x), axis=-1)`,   if your model does multi-class classification   (e.g. if it uses a `softmax` last-layer activation).* `(model.predict(x) > 0.5).astype(\"int32\")`,   if your model does binary classification   (e.g. if it uses a `sigmoid` last-layer activation).\n",
      "Wall time: 6.12 s\n"
     ]
    }
   ],
   "source": [
    "%%time \n",
    "test_pred =model.predict_classes(test_data)\n",
    "test_pred"
   ]
  },
  {
   "cell_type": "code",
   "execution_count": null,
   "metadata": {
    "id": "YredZgRsPLYv",
    "outputId": "cd702779-4be0-4297-b58c-1982b7cc556a"
   },
   "outputs": [
    {
     "data": {
      "text/plain": [
       " 1    0.566218\n",
       "-1    0.433782\n",
       "Name: label, dtype: float64"
      ]
     },
     "execution_count": 84,
     "metadata": {
      "tags": []
     },
     "output_type": "execute_result"
    }
   ],
   "source": [
    "df.label.value_counts(normalize = True)"
   ]
  },
  {
   "cell_type": "code",
   "execution_count": null,
   "metadata": {
    "id": "xuZecpW1PLYx"
   },
   "outputs": [],
   "source": [
    "test_pred = pd.DataFrame(test_pred).replace({0:1,1:-1}) # {1:0,-1:1}"
   ]
  },
  {
   "cell_type": "code",
   "execution_count": null,
   "metadata": {
    "id": "2e7v6tb4PLY0",
    "outputId": "25aa2ff8-7e61-4031-8814-421f1dd46e76"
   },
   "outputs": [
    {
     "data": {
      "text/plain": [
       " 1    0.514033\n",
       "-1    0.485967\n",
       "Name: 0, dtype: float64"
      ]
     },
     "execution_count": 83,
     "metadata": {
      "tags": []
     },
     "output_type": "execute_result"
    }
   ],
   "source": [
    "test_pred[0].value_counts(normalize = True)"
   ]
  },
  {
   "cell_type": "code",
   "execution_count": null,
   "metadata": {
    "id": "Gr4e6uDEPLY4"
   },
   "outputs": [],
   "source": [
    "sub.label =  test_pred"
   ]
  },
  {
   "cell_type": "code",
   "execution_count": null,
   "metadata": {
    "id": "rSUEpd5iPLY5"
   },
   "outputs": [],
   "source": [
    "sub.to_csv('baseline.csv',index = False)"
   ]
  },
  {
   "cell_type": "code",
   "execution_count": null,
   "metadata": {
    "id": "_dphS2VaPLY8"
   },
   "outputs": [],
   "source": [
    "a = pd.DataFrame()"
   ]
  },
  {
   "cell_type": "code",
   "execution_count": null,
   "metadata": {
    "id": "Ddcke9QfPLY-"
   },
   "outputs": [],
   "source": [
    "a['ID'] =  test.ID"
   ]
  },
  {
   "cell_type": "code",
   "execution_count": null,
   "metadata": {
    "id": "pzm0LTvoPLZB"
   },
   "outputs": [],
   "source": [
    "a['label'] =  test_pred"
   ]
  },
  {
   "cell_type": "code",
   "execution_count": null,
   "metadata": {
    "id": "roQNAzmyPLZD",
    "outputId": "aca325f2-dc9e-462d-9801-56cb9fd483a7"
   },
   "outputs": [
    {
     "data": {
      "text/html": [
       "<div>\n",
       "<style scoped>\n",
       "    .dataframe tbody tr th:only-of-type {\n",
       "        vertical-align: middle;\n",
       "    }\n",
       "\n",
       "    .dataframe tbody tr th {\n",
       "        vertical-align: top;\n",
       "    }\n",
       "\n",
       "    .dataframe thead th {\n",
       "        text-align: right;\n",
       "    }\n",
       "</style>\n",
       "<table border=\"1\" class=\"dataframe\">\n",
       "  <thead>\n",
       "    <tr style=\"text-align: right;\">\n",
       "      <th></th>\n",
       "      <th>ID</th>\n",
       "      <th>label</th>\n",
       "    </tr>\n",
       "  </thead>\n",
       "  <tbody>\n",
       "    <tr>\n",
       "      <th>0</th>\n",
       "      <td>2DDHQW9</td>\n",
       "      <td>-1</td>\n",
       "    </tr>\n",
       "    <tr>\n",
       "      <th>1</th>\n",
       "      <td>5HY6UEY</td>\n",
       "      <td>-1</td>\n",
       "    </tr>\n",
       "    <tr>\n",
       "      <th>2</th>\n",
       "      <td>ATNVUJX</td>\n",
       "      <td>1</td>\n",
       "    </tr>\n",
       "    <tr>\n",
       "      <th>3</th>\n",
       "      <td>Q9XYVOQ</td>\n",
       "      <td>-1</td>\n",
       "    </tr>\n",
       "    <tr>\n",
       "      <th>4</th>\n",
       "      <td>TOAHLRH</td>\n",
       "      <td>1</td>\n",
       "    </tr>\n",
       "    <tr>\n",
       "      <th>...</th>\n",
       "      <td>...</td>\n",
       "      <td>...</td>\n",
       "    </tr>\n",
       "    <tr>\n",
       "      <th>29995</th>\n",
       "      <td>NHXTL3R</td>\n",
       "      <td>-1</td>\n",
       "    </tr>\n",
       "    <tr>\n",
       "      <th>29996</th>\n",
       "      <td>U1YWB2O</td>\n",
       "      <td>1</td>\n",
       "    </tr>\n",
       "    <tr>\n",
       "      <th>29997</th>\n",
       "      <td>O3KYLM0</td>\n",
       "      <td>1</td>\n",
       "    </tr>\n",
       "    <tr>\n",
       "      <th>29998</th>\n",
       "      <td>W4C38TY</td>\n",
       "      <td>-1</td>\n",
       "    </tr>\n",
       "    <tr>\n",
       "      <th>29999</th>\n",
       "      <td>4NNX5QE</td>\n",
       "      <td>1</td>\n",
       "    </tr>\n",
       "  </tbody>\n",
       "</table>\n",
       "<p>30000 rows × 2 columns</p>\n",
       "</div>"
      ],
      "text/plain": [
       "            ID  label\n",
       "0      2DDHQW9     -1\n",
       "1      5HY6UEY     -1\n",
       "2      ATNVUJX      1\n",
       "3      Q9XYVOQ     -1\n",
       "4      TOAHLRH      1\n",
       "...        ...    ...\n",
       "29995  NHXTL3R     -1\n",
       "29996  U1YWB2O      1\n",
       "29997  O3KYLM0      1\n",
       "29998  W4C38TY     -1\n",
       "29999  4NNX5QE      1\n",
       "\n",
       "[30000 rows x 2 columns]"
      ]
     },
     "execution_count": 90,
     "metadata": {
      "tags": []
     },
     "output_type": "execute_result"
    }
   ],
   "source": [
    "a"
   ]
  },
  {
   "cell_type": "code",
   "execution_count": null,
   "metadata": {
    "id": "WNJ5upCCPLZG"
   },
   "outputs": [],
   "source": [
    "a.to_csv('cnn_gpu_pos_neg_only.csv',index = False)"
   ]
  },
  {
   "cell_type": "code",
   "execution_count": null,
   "metadata": {
    "id": "ODPGydBGPLZk"
   },
   "outputs": [],
   "source": []
  },
  {
   "cell_type": "code",
   "execution_count": null,
   "metadata": {
    "id": "anC_ctrpPLZm",
    "outputId": "43a957bf-5ec6-4b50-bcb9-40cb929e92a2"
   },
   "outputs": [
    {
     "data": {
      "text/plain": [
       "2879"
      ]
     },
     "execution_count": 75,
     "metadata": {
      "tags": []
     },
     "output_type": "execute_result"
    }
   ],
   "source": [
    "del model\n",
    "gc.collect()"
   ]
  },
  {
   "cell_type": "code",
   "execution_count": null,
   "metadata": {
    "id": "1ksBfEO9PLZq",
    "outputId": "395a169e-8072-4745-85c1-f3ac3c78527f"
   },
   "outputs": [
    {
     "data": {
      "text/plain": [
       "22"
      ]
     },
     "execution_count": 76,
     "metadata": {
      "tags": []
     },
     "output_type": "execute_result"
    }
   ],
   "source": [
    "gc.collect()"
   ]
  },
  {
   "cell_type": "markdown",
   "metadata": {
    "id": "g-B6Y2jBPLZu"
   },
   "source": [
    "`freq = Test Accuracy: 76.727271`"
   ]
  },
  {
   "cell_type": "markdown",
   "metadata": {
    "id": "Lfv-piTxPLZw"
   },
   "source": [
    "`count = Test Accuracy: 76.645023 733/733 - 10s - loss: 0.0460 - accuracy: 0.9824 - val_loss: 1.1938 - val_accuracy: 0.7665`"
   ]
  },
  {
   "cell_type": "markdown",
   "metadata": {
    "id": "x1Htk0KRPLZz"
   },
   "source": [
    "`binary = Test Accuracy: 76.761907 : 733/733 - 11s - loss: 0.0451 - accuracy: 0.9826 - val_loss: 1.1911 - val_accuracy: 0.7676`"
   ]
  },
  {
   "cell_type": "markdown",
   "metadata": {
    "id": "S2XpRMX0PLZ2"
   },
   "source": [
    "`tfidf = Test Accuracy: 76.805192 : 733/733 - 10s - loss: 0.0215 - accuracy: 0.9907 - val_loss: 1.6002 - val_accuracy: 0.7681`"
   ]
  },
  {
   "cell_type": "markdown",
   "metadata": {
    "id": "T5Kx4f7YPLZ5"
   },
   "source": [
    "`tfidf = Test Accuracy: 75.324672 : 184/184  - 4s 22ms/step - loss: 0.0652 - accuracy: 0.9734 - val_loss: 1.1676 - val_accuracy: 0.7532`"
   ]
  },
  {
   "cell_type": "code",
   "execution_count": null,
   "metadata": {
    "id": "F6PQQnwKPLZ8"
   },
   "outputs": [],
   "source": []
  },
  {
   "cell_type": "code",
   "execution_count": null,
   "metadata": {
    "id": "ywuXzcvAPLZ-"
   },
   "outputs": [],
   "source": []
  }
 ],
 "metadata": {
  "colab": {
   "name": "03 zindi_cnn_sentiment-train_test.ipynb",
   "provenance": []
  },
  "kernelspec": {
   "display_name": "Python 3",
   "language": "python",
   "name": "python3"
  },
  "language_info": {
   "codemirror_mode": {
    "name": "ipython",
    "version": 3
   },
   "file_extension": ".py",
   "mimetype": "text/x-python",
   "name": "python",
   "nbconvert_exporter": "python",
   "pygments_lexer": "ipython3",
   "version": "3.8.5"
  }
 },
 "nbformat": 4,
 "nbformat_minor": 4
}
