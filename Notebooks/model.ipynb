{
 "cells": [
  {
   "cell_type": "code",
   "execution_count": 1,
   "metadata": {},
   "outputs": [],
   "source": [
    "import torch\n",
    "import torch.nn as nn\n",
    "from ignite.engine.engine import Engine,Events\n",
    "from ignite.metrics import RunningAverage,Accuracy,Loss\n",
    "from ignite.handlers import ModelCheckpoint,EarlyStopping\n",
    "from ignite.contrib.handlers import ProgressBar"
   ]
  },
  {
   "cell_type": "code",
   "execution_count": 2,
   "metadata": {},
   "outputs": [
    {
     "name": "stderr",
     "output_type": "stream",
     "text": [
      "Using cache found in C:\\Users\\Jamiu Afolabi/.cache\\torch\\hub\\huggingface_pytorch-transformers_master\n",
      "Using cache found in C:\\Users\\Jamiu Afolabi/.cache\\torch\\hub\\huggingface_pytorch-transformers_master\n"
     ]
    }
   ],
   "source": [
    "import sys\n",
    "if '../' not in sys.path:\n",
    "    sys.path.append('../')\n",
    "\n",
    "import torch.nn.functional as F\n",
    "import sys\n",
    "import os\n",
    "import numpy as np\n",
    "from libnlp import preprocessing,env,custData\n",
    "import pandas as pd\n",
    "from torch.utils.data import DataLoader,Dataset\n",
    "from ignite.utils import convert_tensor\n",
    "from pytorch_pretrained_bert.modeling import BertModel"
   ]
  },
  {
   "cell_type": "code",
   "execution_count": 3,
   "metadata": {},
   "outputs": [],
   "source": [
    "import torch.nn as nn\n",
    "import torch.nn.functional as F\n",
    "from torch.utils.data import DataLoader,Dataset\n",
    "from torch.nn.utils.rnn import pack_padded_sequence\n",
    "from torch.optim import AdamW\n",
    "from tqdm import tqdm\n",
    "from argparse import ArgumentParser\n",
    "from ignite.engine import Events, create_supervised_trainer, create_supervised_evaluator\n",
    "from ignite.metrics import Accuracy, Loss\n",
    "from ignite.engine.engine import Engine, State, Events\n",
    "from ignite.handlers import EarlyStopping\n",
    "from ignite.contrib.handlers import TensorboardLogger, ProgressBar\n",
    "from ignite.utils import convert_tensor\n",
    "from torch.optim.lr_scheduler import ExponentialLR\n",
    "import warnings  \n",
    "warnings.filterwarnings('ignore')\n",
    "from sklearn.model_selection import train_test_split"
   ]
  },
  {
   "cell_type": "code",
   "execution_count": 4,
   "metadata": {},
   "outputs": [
    {
     "name": "stderr",
     "output_type": "stream",
     "text": [
      "Using cache found in C:\\Users\\Jamiu Afolabi/.cache\\torch\\hub\\huggingface_pytorch-transformers_master\n",
      "Using cache found in C:\\Users\\Jamiu Afolabi/.cache\\torch\\hub\\huggingface_pytorch-transformers_master\n"
     ]
    }
   ],
   "source": [
    "E=env.Env()"
   ]
  },
  {
   "cell_type": "code",
   "execution_count": 5,
   "metadata": {},
   "outputs": [],
   "source": [
    "train_df=pd.read_csv(os.path.join(E.ppd_path,E.train_path),encoding='utf-8')\n",
    "test_df=pd.read_csv(os.path.join(E.ppd_path,E.test_path),encoding='utf-8')\n",
    "train_minority_df=pd.read_csv(os.path.join(E.ppd_path,'minority_train.csv'),encoding='utf-8')\n",
    "train_minority_df_idx=train_minority_df.index\n",
    "validation_minority_df=pd.read_csv(os.path.join(E.ppd_path,'minority_test.csv'),encoding='utf-8')\n",
    "validation_minority_df_idx=train_minority_df.index\n",
    "train_df=train_df[train_df.label!=0]\n",
    "#train_data=pd.concat([train_df,train_minority_df])"
   ]
  },
  {
   "cell_type": "code",
   "execution_count": 6,
   "metadata": {},
   "outputs": [
    {
     "data": {
      "text/plain": [
       "RangeIndex(start=0, stop=8164, step=1)"
      ]
     },
     "execution_count": 6,
     "metadata": {},
     "output_type": "execute_result"
    }
   ],
   "source": [
    "train_minority_df_idx"
   ]
  },
  {
   "cell_type": "markdown",
   "metadata": {},
   "source": [
    "# Split Train_df into two"
   ]
  },
  {
   "cell_type": "code",
   "execution_count": 7,
   "metadata": {},
   "outputs": [],
   "source": [
    "train_one,train_two=train_test_split(train_df,test_size=0.5)"
   ]
  },
  {
   "cell_type": "markdown",
   "metadata": {},
   "source": [
    "# Create Datasets and Using Train_one"
   ]
  },
  {
   "cell_type": "code",
   "execution_count": 8,
   "metadata": {},
   "outputs": [],
   "source": [
    "from sklearn.model_selection import train_test_split\n",
    "from sklearn.utils import shuffle\n",
    "\n",
    "def createDataLoaders(train,test,train_minority,validation_minority):\n",
    "    train_s,validation_s=train_test_split(train,test_size=0.2,random_state=42)\n",
    "    train_s=pd.concat([train_s,train_minority],axis=0)\n",
    "    train_s=shuffle(train_s,random_state=42)\n",
    "    validation_s=pd.concat([validation_s,validation_minority],axis=0)\n",
    "    validation_s=shuffle(validation_s,random_state=42)\n",
    "    train_ds=custData.ArabiziDataset(train_s,E.tokenizer,E.tokenizer_max_len)\n",
    "    validation_ds=custData.ArabiziDataset(validation_s,E.tokenizer,E.tokenizer_max_len)\n",
    "    test_ds=custData.ArabiziDataset(test_df,E.tokenizer,E.tokenizer_max_len,train=False)\n",
    "    train_loader=DataLoader(train_ds,batch_size=32,collate_fn=custData.customPadding,shuffle=False)\n",
    "    validation_loader=DataLoader(validation_ds,batch_size=32,collate_fn=custData.customPadding,shuffle=False)\n",
    "    test_loader=DataLoader(test_ds,batch_size=256,collate_fn=custData.customPadding,shuffle=False)\n",
    "    \n",
    "    return train_loader,validation_loader,test_loader"
   ]
  },
  {
   "cell_type": "markdown",
   "metadata": {},
   "source": [
    "# Using the whole train_df"
   ]
  },
  {
   "cell_type": "code",
   "execution_count": 9,
   "metadata": {},
   "outputs": [],
   "source": [
    "train_loader,validation_loader,test_loader=createDataLoaders(train_two,test_df,train_minority_df,validation_minority_df)"
   ]
  },
  {
   "cell_type": "markdown",
   "metadata": {},
   "source": [
    "# Create a Model"
   ]
  },
  {
   "cell_type": "code",
   "execution_count": 10,
   "metadata": {},
   "outputs": [],
   "source": [
    "class BertModel(nn.Module):\n",
    "    def __init__(self,n_outputs,bert_model=E.model,num_filters=200,kernel_size=[3,4,5],d_prob=0.2):\n",
    "        super(BertModel,self).__init__()\n",
    "        self.K=n_outputs\n",
    "        self.bert_model=E.model\n",
    "        self.bert_hidden_size=E.model.config.hidden_size\n",
    "        self.conv=nn.ModuleList([nn.Conv1d(in_channels=self.bert_hidden_size,\n",
    "                                           out_channels=num_filters,\n",
    "                                           kernel_size=k,\n",
    "                                           stride=1\n",
    "                                          ) for k in kernel_size])\n",
    "        self.dropout=nn.Dropout(d_prob)\n",
    "        self.fc=nn.Linear(len(kernel_size)*num_filters,self.K)\n",
    "        \n",
    "        \n",
    "    def forward(self,input_tokens,attention_mask):\n",
    "        out,_=self.bert_model(input_ids=input_tokens,attention_mask=attention_mask,return_dict=False)\n",
    "        out=out.permute(0,2,1)\n",
    "        out=[F.relu(conv(out)) for conv in self.conv]\n",
    "        out=[F.max_pool1d(c,c.size(-1)).squeeze(dim=-1) for c in out]\n",
    "        out=torch.cat(out,dim=1)\n",
    "        out=self.fc(self.dropout(out))\n",
    "        return out\n",
    "        "
   ]
  },
  {
   "cell_type": "code",
   "execution_count": 11,
   "metadata": {},
   "outputs": [],
   "source": [
    "def children(m):\n",
    "    return m if isinstance(m, (list, tuple)) else list(m.children())\n",
    "\n",
    "\n",
    "def set_trainable_attr(m, b):\n",
    "    m.trainable = b\n",
    "    for p in m.parameters():\n",
    "        p.requires_grad = b\n",
    "\n",
    "\n",
    "def apply_leaf(m, f):\n",
    "    c = children(m)\n",
    "    if isinstance(m, nn.Module):\n",
    "        f(m)\n",
    "    if len(c) > 0:\n",
    "        for l in c:\n",
    "            apply_leaf(l, f)\n",
    "\n",
    "            \n",
    "def set_trainable(l, b):\n",
    "    apply_leaf(l, lambda m: set_trainable_attr(m, b))"
   ]
  },
  {
   "cell_type": "code",
   "execution_count": 12,
   "metadata": {},
   "outputs": [],
   "source": [
    "model=BertModel(3)\n",
    "model.to(E.device)\n",
    "set_trainable(model.bert_model,False)\n",
    "criterion=nn.CrossEntropyLoss()\n",
    "optimizer=torch.optim.Adam(model.parameters())"
   ]
  },
  {
   "cell_type": "markdown",
   "metadata": {},
   "source": [
    "# Building helper to Run Model"
   ]
  },
  {
   "cell_type": "code",
   "execution_count": 13,
   "metadata": {},
   "outputs": [
    {
     "data": {
      "text/plain": [
       "<ignite.engine.events.RemovableEventHandle at 0x20c82029460>"
      ]
     },
     "execution_count": 13,
     "metadata": {},
     "output_type": "execute_result"
    }
   ],
   "source": [
    "def _batch(batch,train=True):\n",
    "    if train:\n",
    "        input_token,attention_mask,targets=batch\n",
    "        return input_token.to(E.device),attention_mask.to(E.device),targets.to(E.device)\n",
    "    else:\n",
    "        input_token,attention_mask=batch\n",
    "        return input_token.to(E.device),attention_mask.to(E.device)\n",
    "\n",
    "def trainer_update(engine,batch):\n",
    "    model.train()\n",
    "    optimizer.zero_grad()\n",
    "    input_token,attention_mask,y=_batch(batch)\n",
    "    #Forward pass\n",
    "    out=model(input_token,attention_mask)\n",
    "    loss=criterion(out,y)\n",
    "    #backward pass\n",
    "    loss.backward()\n",
    "    optimizer.step()\n",
    "    #print('Done')\n",
    "    return loss.item()\n",
    "\n",
    "def eval_update(engine,batch):\n",
    "    model.eval()\n",
    "    with torch.no_grad():\n",
    "        input_token,attention_mask,y=_batch(batch)\n",
    "        out=model(input_token,attention_mask)\n",
    "        y_pred=torch.round(out)\n",
    "        return y_pred,y\n",
    "    \n",
    "# Creating the Engine\n",
    "trainer=Engine(trainer_update)\n",
    "train_evaluator=Engine(eval_update)\n",
    "RunningAverage(output_transform=lambda x: x).attach(trainer,'loss')\n",
    "Loss(criterion).attach(train_evaluator,'crossentropy')\n",
    "Accuracy().attach(train_evaluator,'accuracy')\n",
    "\n",
    "# Progress bar\n",
    "pbar=ProgressBar(persist=True,bar_format=\"\")\n",
    "pbar.attach(trainer,['loss'])\n",
    "\n",
    "# Tracking Validation Loss\n",
    "def score_func(engine):\n",
    "    val_loss=engine.state.metrics['crossentropy']\n",
    "    return -val_loss\n",
    "\n",
    "handler=EarlyStopping(patience=3,score_function=score_func,trainer=trainer)\n",
    "train_evaluator.add_event_handler(Events.COMPLETED,handler)\n",
    "\n",
    "@trainer.on(Events.EPOCH_COMPLETED)\n",
    "def log_training_res():\n",
    "    train_evaluator.run(train_loader)\n",
    "    metrics=train_evaluator.state.metrics\n",
    "    accuracy=metrics['accuracy']\n",
    "    loss=metrics['crossentropy']\n",
    "    pbar.log_message(f'Training_loss: {loss}, Accuracy: {accuracy}')\n",
    "    \n",
    "@trainer.on(Events.EPOCH_COMPLETED)\n",
    "def log_validation_res():\n",
    "    train_evaluator.run(validation_loader)\n",
    "    metrics=train_evaluator.state.metrics\n",
    "    accuracy=metrics['accuracy']\n",
    "    loss=metrics['crossentropy']\n",
    "    pbar.log_message(f'Validation_loss: {loss}, Accuracy: {accuracy}')\n",
    "    \n",
    "checkpoint=ModelCheckpoint('/tmp/model2/train_two','bert_model',n_saved=3,require_empty=False)\n",
    "trainer.add_event_handler(Events.EPOCH_COMPLETED,checkpoint,{'bertmodel':model})"
   ]
  },
  {
   "cell_type": "markdown",
   "metadata": {},
   "source": [
    "# Run Engine"
   ]
  },
  {
   "cell_type": "code",
   "execution_count": 14,
   "metadata": {},
   "outputs": [
    {
     "data": {
      "application/vnd.jupyter.widget-view+json": {
       "model_id": "98c9225f832a4f7eb382bd6e30417db3",
       "version_major": 2,
       "version_minor": 0
      },
      "text/plain": [
       "HBox(children=(HTML(value=''), FloatProgress(value=0.0, max=1100.0), HTML(value='')))"
      ]
     },
     "metadata": {},
     "output_type": "display_data"
    },
    {
     "name": "stdout",
     "output_type": "stream",
     "text": [
      "\n",
      "Training_loss: 0.5648086929136936, Accuracy: 0.7573414446939761\n",
      "Validation_loss: 0.6647356761871989, Accuracy: 0.7091534755677907\n"
     ]
    },
    {
     "data": {
      "application/vnd.jupyter.widget-view+json": {
       "model_id": "dd93da40a473451291f8f09c323b667d",
       "version_major": 2,
       "version_minor": 0
      },
      "text/plain": [
       "HBox(children=(HTML(value=''), FloatProgress(value=0.0, max=1100.0), HTML(value='')))"
      ]
     },
     "metadata": {},
     "output_type": "display_data"
    },
    {
     "name": "stdout",
     "output_type": "stream",
     "text": [
      "\n",
      "Training_loss: 0.48254929979105665, Accuracy: 0.7943826932370583\n",
      "Validation_loss: 0.6244862461286993, Accuracy: 0.727598072952512\n"
     ]
    },
    {
     "data": {
      "application/vnd.jupyter.widget-view+json": {
       "model_id": "2910d543d7f34007b8cafc421e81d44d",
       "version_major": 2,
       "version_minor": 0
      },
      "text/plain": [
       "HBox(children=(HTML(value=''), FloatProgress(value=0.0, max=1100.0), HTML(value='')))"
      ]
     },
     "metadata": {},
     "output_type": "display_data"
    },
    {
     "name": "stdout",
     "output_type": "stream",
     "text": [
      "\n",
      "Training_loss: 0.4383963598373938, Accuracy: 0.8062938852090855\n",
      "Validation_loss: 0.6273796401841019, Accuracy: 0.721403991741225\n"
     ]
    },
    {
     "data": {
      "application/vnd.jupyter.widget-view+json": {
       "model_id": "3c75e3e2d10d4c3f8579810b400d25c1",
       "version_major": 2,
       "version_minor": 0
      },
      "text/plain": [
       "HBox(children=(HTML(value=''), FloatProgress(value=0.0, max=1100.0), HTML(value='')))"
      ]
     },
     "metadata": {},
     "output_type": "display_data"
    },
    {
     "name": "stdout",
     "output_type": "stream",
     "text": [
      "\n",
      "Training_loss: 0.40285256079967025, Accuracy: 0.8315660801091622\n",
      "Validation_loss: 0.6334692097169649, Accuracy: 0.7362697866483139\n"
     ]
    },
    {
     "data": {
      "application/vnd.jupyter.widget-view+json": {
       "model_id": "18b306336d774611b0b60182843ff797",
       "version_major": 2,
       "version_minor": 0
      },
      "text/plain": [
       "HBox(children=(HTML(value=''), FloatProgress(value=0.0, max=1100.0), HTML(value='')))"
      ]
     },
     "metadata": {},
     "output_type": "display_data"
    },
    {
     "name": "stdout",
     "output_type": "stream",
     "text": [
      "\n",
      "Training_loss: 0.3819791862847173, Accuracy: 0.8485373965943657\n",
      "Validation_loss: 0.6593020770603923, Accuracy: 0.7470061940812113\n"
     ]
    },
    {
     "data": {
      "application/vnd.jupyter.widget-view+json": {
       "model_id": "92e5e0fd899d43c799d501901624375d",
       "version_major": 2,
       "version_minor": 0
      },
      "text/plain": [
       "HBox(children=(HTML(value=''), FloatProgress(value=0.0, max=1100.0), HTML(value='')))"
      ]
     },
     "metadata": {},
     "output_type": "display_data"
    },
    {
     "name": "stdout",
     "output_type": "stream",
     "text": [
      "\n",
      "Training_loss: 0.326675577703471, Accuracy: 0.8584870796258919\n",
      "Validation_loss: 0.6545712265571232, Accuracy: 0.7237439779766002\n"
     ]
    },
    {
     "data": {
      "application/vnd.jupyter.widget-view+json": {
       "model_id": "8244df98778e4413850c465e80a64d08",
       "version_major": 2,
       "version_minor": 0
      },
      "text/plain": [
       "HBox(children=(HTML(value=''), FloatProgress(value=0.0, max=1100.0), HTML(value='')))"
      ]
     },
     "metadata": {},
     "output_type": "display_data"
    },
    {
     "name": "stdout",
     "output_type": "stream",
     "text": [
      "\n",
      "Training_loss: 0.2985964006577451, Accuracy: 0.878272735025727\n",
      "Validation_loss: 0.6693438682897453, Accuracy: 0.7405368203716449\n"
     ]
    },
    {
     "data": {
      "application/vnd.jupyter.widget-view+json": {
       "model_id": "2d319c589342417b8124eba169cb584a",
       "version_major": 2,
       "version_minor": 0
      },
      "text/plain": [
       "HBox(children=(HTML(value=''), FloatProgress(value=0.0, max=1100.0), HTML(value='')))"
      ]
     },
     "metadata": {},
     "output_type": "display_data"
    },
    {
     "name": "stdout",
     "output_type": "stream",
     "text": [
      "\n",
      "Training_loss: 0.26836896378493047, Accuracy: 0.8881655627256446\n",
      "Validation_loss: 0.6848707415691673, Accuracy: 0.7353062629043359\n"
     ]
    },
    {
     "data": {
      "application/vnd.jupyter.widget-view+json": {
       "model_id": "2a4313e401db486699b881f34006083d",
       "version_major": 2,
       "version_minor": 0
      },
      "text/plain": [
       "HBox(children=(HTML(value=''), FloatProgress(value=0.0, max=1100.0), HTML(value='')))"
      ]
     },
     "metadata": {},
     "output_type": "display_data"
    },
    {
     "name": "stdout",
     "output_type": "stream",
     "text": [
      "\n",
      "Training_loss: 0.2538729363291355, Accuracy: 0.9013844273246724\n",
      "Validation_loss: 0.7283713921627667, Accuracy: 0.7428768066070199\n"
     ]
    },
    {
     "data": {
      "application/vnd.jupyter.widget-view+json": {
       "model_id": "b8c4a933ee0846c1a4ffb5048de7d17b",
       "version_major": 2,
       "version_minor": 0
      },
      "text/plain": [
       "HBox(children=(HTML(value=''), FloatProgress(value=0.0, max=1100.0), HTML(value='')))"
      ]
     },
     "metadata": {},
     "output_type": "display_data"
    },
    {
     "name": "stdout",
     "output_type": "stream",
     "text": [
      "\n",
      "Training_loss: 0.22144202221977427, Accuracy: 0.9172186371777014\n",
      "Validation_loss: 0.7267115047530971, Accuracy: 0.7475567790777702\n"
     ]
    },
    {
     "data": {
      "application/vnd.jupyter.widget-view+json": {
       "model_id": "0fa35eabf0a942feb3036d090ee77671",
       "version_major": 2,
       "version_minor": 0
      },
      "text/plain": [
       "HBox(children=(HTML(value=''), FloatProgress(value=0.0, max=1100.0), HTML(value='')))"
      ]
     },
     "metadata": {},
     "output_type": "display_data"
    },
    {
     "name": "stdout",
     "output_type": "stream",
     "text": [
      "\n",
      "Training_loss: 0.20464853133350627, Accuracy: 0.9160246752139182\n",
      "Validation_loss: 0.7511942559575017, Accuracy: 0.7383344803854095\n"
     ]
    },
    {
     "data": {
      "application/vnd.jupyter.widget-view+json": {
       "model_id": "f828bd14a0774ee9b546b8c9b6cdce74",
       "version_major": 2,
       "version_minor": 0
      },
      "text/plain": [
       "HBox(children=(HTML(value=''), FloatProgress(value=0.0, max=1100.0), HTML(value='')))"
      ]
     },
     "metadata": {},
     "output_type": "display_data"
    },
    {
     "name": "stdout",
     "output_type": "stream",
     "text": [
      "\n",
      "Training_loss: 0.18342124070770674, Accuracy: 0.9277653011911192\n",
      "Validation_loss: 0.7639822511613902, Accuracy: 0.7472814865794907\n"
     ]
    },
    {
     "data": {
      "application/vnd.jupyter.widget-view+json": {
       "model_id": "e7df4229b95f43929811be71d3de9dfe",
       "version_major": 2,
       "version_minor": 0
      },
      "text/plain": [
       "HBox(children=(HTML(value=''), FloatProgress(value=0.0, max=1100.0), HTML(value='')))"
      ]
     },
     "metadata": {},
     "output_type": "display_data"
    },
    {
     "name": "stdout",
     "output_type": "stream",
     "text": [
      "\n",
      "Training_loss: 0.16334039842261988, Accuracy: 0.9358956136111664\n",
      "Validation_loss: 0.7860182865192705, Accuracy: 0.7398485891259463\n"
     ]
    },
    {
     "data": {
      "application/vnd.jupyter.widget-view+json": {
       "model_id": "3732b93c65ee4ce18a55922fa26eaed5",
       "version_major": 2,
       "version_minor": 0
      },
      "text/plain": [
       "HBox(children=(HTML(value=''), FloatProgress(value=0.0, max=1100.0), HTML(value='')))"
      ]
     },
     "metadata": {},
     "output_type": "display_data"
    },
    {
     "name": "stdout",
     "output_type": "stream",
     "text": [
      "\n",
      "Training_loss: 0.16011592657755777, Accuracy: 0.9333371236887739\n",
      "Validation_loss: 0.7964859880419821, Accuracy: 0.7362697866483139\n"
     ]
    },
    {
     "data": {
      "application/vnd.jupyter.widget-view+json": {
       "model_id": "4faaf96b99c647efa9e9a3d40aa541c4",
       "version_major": 2,
       "version_minor": 0
      },
      "text/plain": [
       "HBox(children=(HTML(value=''), FloatProgress(value=0.0, max=1100.0), HTML(value='')))"
      ]
     },
     "metadata": {},
     "output_type": "display_data"
    },
    {
     "name": "stdout",
     "output_type": "stream",
     "text": [
      "\n",
      "Training_loss: 0.14644148364876197, Accuracy: 0.9442533473576484\n",
      "Validation_loss: 0.8048363703329319, Accuracy: 0.7415003441156228\n"
     ]
    },
    {
     "data": {
      "application/vnd.jupyter.widget-view+json": {
       "model_id": "33ed143a97f44ec69ff291f39ebf6c3e",
       "version_major": 2,
       "version_minor": 0
      },
      "text/plain": [
       "HBox(children=(HTML(value=''), FloatProgress(value=0.0, max=1100.0), HTML(value='')))"
      ]
     },
     "metadata": {},
     "output_type": "display_data"
    },
    {
     "name": "stdout",
     "output_type": "stream",
     "text": [
      "\n",
      "Training_loss: 0.13347830147361914, Accuracy: 0.9522699491144783\n",
      "Validation_loss: 0.827444497913799, Accuracy: 0.753337921541638\n"
     ]
    },
    {
     "data": {
      "application/vnd.jupyter.widget-view+json": {
       "model_id": "ee2385830e794629a96155e1eb9a0ee2",
       "version_major": 2,
       "version_minor": 0
      },
      "text/plain": [
       "HBox(children=(HTML(value=''), FloatProgress(value=0.0, max=1100.0), HTML(value='')))"
      ]
     },
     "metadata": {},
     "output_type": "display_data"
    },
    {
     "name": "stdout",
     "output_type": "stream",
     "text": [
      "\n",
      "Training_loss: 0.12918536303905961, Accuracy: 0.9538618983995224\n",
      "Validation_loss: 0.8536452732493117, Accuracy: 0.7454920853406745\n"
     ]
    },
    {
     "data": {
      "application/vnd.jupyter.widget-view+json": {
       "model_id": "670d220819be4e10a121eca624b75ad0",
       "version_major": 2,
       "version_minor": 0
      },
      "text/plain": [
       "HBox(children=(HTML(value=''), FloatProgress(value=0.0, max=1100.0), HTML(value='')))"
      ]
     },
     "metadata": {},
     "output_type": "display_data"
    },
    {
     "name": "stdout",
     "output_type": "stream",
     "text": [
      "\n",
      "Training_loss: 0.11768402638353896, Accuracy: 0.9571026523012195\n",
      "Validation_loss: 0.861824874720406, Accuracy: 0.747143840330351\n"
     ]
    },
    {
     "data": {
      "application/vnd.jupyter.widget-view+json": {
       "model_id": "3d5c2c21edae4c4a80e12bd03fbc7dd3",
       "version_major": 2,
       "version_minor": 0
      },
      "text/plain": [
       "HBox(children=(HTML(value=''), FloatProgress(value=0.0, max=1100.0), HTML(value='')))"
      ]
     },
     "metadata": {},
     "output_type": "display_data"
    },
    {
     "name": "stdout",
     "output_type": "stream",
     "text": [
      "\n",
      "Training_loss: 0.11449919780680558, Accuracy: 0.9615089405008955\n",
      "Validation_loss: 0.9127830888678596, Accuracy: 0.7503097040605643\n"
     ]
    },
    {
     "data": {
      "application/vnd.jupyter.widget-view+json": {
       "model_id": "ce762b2e5ea546deb32f62b92710afea",
       "version_major": 2,
       "version_minor": 0
      },
      "text/plain": [
       "HBox(children=(HTML(value=''), FloatProgress(value=0.0, max=1100.0), HTML(value='')))"
      ]
     },
     "metadata": {},
     "output_type": "display_data"
    },
    {
     "name": "stdout",
     "output_type": "stream",
     "text": [
      "\n",
      "Training_loss: 0.10469356170002772, Accuracy: 0.9632714557807659\n",
      "Validation_loss: 0.8888338512990365, Accuracy: 0.7486579490708878\n"
     ]
    },
    {
     "data": {
      "application/vnd.jupyter.widget-view+json": {
       "model_id": "b9b1eb7fa7854eaf84d22837c3d17961",
       "version_major": 2,
       "version_minor": 0
      },
      "text/plain": [
       "HBox(children=(HTML(value=''), FloatProgress(value=0.0, max=1100.0), HTML(value='')))"
      ]
     },
     "metadata": {},
     "output_type": "display_data"
    },
    {
     "name": "stdout",
     "output_type": "stream",
     "text": [
      "\n",
      "Training_loss: 0.10361360883443017, Accuracy: 0.9590073059101117\n",
      "Validation_loss: 0.9339197189005506, Accuracy: 0.7355815554026153\n"
     ]
    },
    {
     "data": {
      "application/vnd.jupyter.widget-view+json": {
       "model_id": "53dccfe1a9884a13b216b11da35e8c1e",
       "version_major": 2,
       "version_minor": 0
      },
      "text/plain": [
       "HBox(children=(HTML(value=''), FloatProgress(value=0.0, max=1100.0), HTML(value='')))"
      ]
     },
     "metadata": {},
     "output_type": "display_data"
    },
    {
     "name": "stdout",
     "output_type": "stream",
     "text": [
      "\n",
      "Training_loss: 0.08741543324651051, Accuracy: 0.9708332148847258\n",
      "Validation_loss: 0.9260782513549553, Accuracy: 0.7478320715760496\n"
     ]
    },
    {
     "data": {
      "application/vnd.jupyter.widget-view+json": {
       "model_id": "7644987d83bb486fb1ae70aaa853b8d9",
       "version_major": 2,
       "version_minor": 0
      },
      "text/plain": [
       "HBox(children=(HTML(value=''), FloatProgress(value=0.0, max=1100.0), HTML(value='')))"
      ]
     },
     "metadata": {},
     "output_type": "display_data"
    },
    {
     "name": "stdout",
     "output_type": "stream",
     "text": [
      "\n",
      "Training_loss: 0.09396187494669812, Accuracy: 0.9629871791227222\n"
     ]
    },
    {
     "name": "stderr",
     "output_type": "stream",
     "text": [
      "2021-03-14 16:06:51,390 ignite.handlers.early_stopping.EarlyStopping INFO: EarlyStopping: Stop training\n"
     ]
    },
    {
     "name": "stdout",
     "output_type": "stream",
     "text": [
      "Validation_loss: 0.9661837846266346, Accuracy: 0.7343427391603579\n"
     ]
    },
    {
     "data": {
      "text/plain": [
       "State:\n",
       "\titeration: 25300\n",
       "\tepoch: 23\n",
       "\tepoch_length: 1100\n",
       "\tmax_epochs: 25\n",
       "\toutput: 0.4693189859390259\n",
       "\tbatch: <class 'tuple'>\n",
       "\tmetrics: <class 'dict'>\n",
       "\tdataloader: <class 'torch.utils.data.dataloader.DataLoader'>\n",
       "\tseed: <class 'NoneType'>\n",
       "\ttimes: <class 'dict'>"
      ]
     },
     "execution_count": 14,
     "metadata": {},
     "output_type": "execute_result"
    }
   ],
   "source": [
    "trainer.run(train_loader,max_epochs=25)"
   ]
  },
  {
   "cell_type": "markdown",
   "metadata": {},
   "source": [
    "# Predict Test set"
   ]
  },
  {
   "cell_type": "code",
   "execution_count": 15,
   "metadata": {},
   "outputs": [],
   "source": [
    "predictions=[]\n",
    "model.eval()\n",
    "for batch in test_loader:\n",
    "    with torch.no_grad():\n",
    "        input_token,attention_mask=_batch(batch,train=False)\n",
    "        out=model(input_token,attention_mask)\n",
    "        predicted = torch.max(out,1)[1]\n",
    "        y=predicted.cpu().detach().numpy()\n",
    "        predictions.append(y)\n"
   ]
  },
  {
   "cell_type": "code",
   "execution_count": 16,
   "metadata": {},
   "outputs": [],
   "source": [
    "predictions = np.hstack(predictions)\n",
    "predictions=np.transpose(predictions)"
   ]
  },
  {
   "cell_type": "code",
   "execution_count": 17,
   "metadata": {},
   "outputs": [],
   "source": [
    "ss=pd.read_csv(os.path.join(E.data_path,'SampleSubmission.csv'))\n",
    "test=pd.read_csv(os.path.join(E.data_path,'Test.csv'))\n",
    "ss.ID=test.ID\n",
    "ss.label=predictions\n",
    "mapping={0: 0, 1: 1, -1: 2}\n",
    "inverse_mapping={x:y for y,x in mapping.items()}\n",
    "ss['label']=ss.label.map(inverse_mapping)\n",
    "ss.label.value_counts()\n",
    "ss.to_csv('../Data/nb_3_ss_{}.csv',index=False)"
   ]
  },
  {
   "cell_type": "code",
   "execution_count": 18,
   "metadata": {},
   "outputs": [
    {
     "data": {
      "text/plain": [
       " 1    16039\n",
       "-1    13057\n",
       " 0      904\n",
       "Name: label, dtype: int64"
      ]
     },
     "execution_count": 18,
     "metadata": {},
     "output_type": "execute_result"
    }
   ],
   "source": [
    "ss.label.value_counts()"
   ]
  },
  {
   "cell_type": "code",
   "execution_count": null,
   "metadata": {},
   "outputs": [],
   "source": []
  }
 ],
 "metadata": {
  "kernelspec": {
   "display_name": "Python 3",
   "language": "python",
   "name": "python3"
  },
  "language_info": {
   "codemirror_mode": {
    "name": "ipython",
    "version": 3
   },
   "file_extension": ".py",
   "mimetype": "text/x-python",
   "name": "python",
   "nbconvert_exporter": "python",
   "pygments_lexer": "ipython3",
   "version": "3.8.5"
  }
 },
 "nbformat": 4,
 "nbformat_minor": 4
}
