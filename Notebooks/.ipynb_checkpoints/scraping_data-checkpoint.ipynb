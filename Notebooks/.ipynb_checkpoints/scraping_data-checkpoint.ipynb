{
 "cells": [
  {
   "cell_type": "code",
   "execution_count": 1,
   "metadata": {},
   "outputs": [],
   "source": [
    "from bs4 import BeautifulSoup\n",
    "import requests\n",
    "import pandas as pd"
   ]
  },
  {
   "cell_type": "code",
   "execution_count": 2,
   "metadata": {},
   "outputs": [],
   "source": [
    "url=requests.get('https://en.wikipedia.org/wiki/Arabic_chat_alphabet').text\n",
    "\n",
    "soup=BeautifulSoup(url,'lxml')"
   ]
  },
  {
   "cell_type": "code",
   "execution_count": 3,
   "metadata": {},
   "outputs": [],
   "source": [
    "mytable=soup.find('table',{'class': 'wikitable'})"
   ]
  },
  {
   "cell_type": "code",
   "execution_count": null,
   "metadata": {},
   "outputs": [],
   "source": [
    "mytable"
   ]
  },
  {
   "cell_type": "code",
   "execution_count": 40,
   "metadata": {},
   "outputs": [],
   "source": [
    "table=pd.read_html(str(mytable))\n",
    "df=table[0].drop('IPA',axis=1,inplace=True)"
   ]
  },
  {
   "cell_type": "code",
   "execution_count": 41,
   "metadata": {},
   "outputs": [
    {
     "data": {
      "text/plain": [
       "['ت\\u200e']"
      ]
     },
     "execution_count": 41,
     "metadata": {},
     "output_type": "execute_result"
    }
   ],
   "source": [
    "table[0].Letters[3].split()"
   ]
  },
  {
   "cell_type": "code",
   "execution_count": 36,
   "metadata": {},
   "outputs": [],
   "source": [
    "b=\"\".join(table[0].Letters[3])"
   ]
  },
  {
   "cell_type": "code",
   "execution_count": 39,
   "metadata": {},
   "outputs": [
    {
     "ename": "TypeError",
     "evalue": "sequence item 0: expected a bytes-like object, str found",
     "output_type": "error",
     "traceback": [
      "\u001b[1;31m---------------------------------------------------------------------------\u001b[0m",
      "\u001b[1;31mTypeError\u001b[0m                                 Traceback (most recent call last)",
      "\u001b[1;32m<ipython-input-39-f9ff4c554838>\u001b[0m in \u001b[0;36m<module>\u001b[1;34m\u001b[0m\n\u001b[1;32m----> 1\u001b[1;33m \u001b[0mb\u001b[0m\u001b[1;33m=\u001b[0m\u001b[0mb\u001b[0m\u001b[1;33m.\u001b[0m\u001b[0mjoin\u001b[0m\u001b[1;33m(\u001b[0m\u001b[0mtable\u001b[0m\u001b[1;33m[\u001b[0m\u001b[1;36m0\u001b[0m\u001b[1;33m]\u001b[0m\u001b[1;33m.\u001b[0m\u001b[0mLetters\u001b[0m\u001b[1;33m[\u001b[0m\u001b[1;36m4\u001b[0m\u001b[1;33m]\u001b[0m\u001b[1;33m)\u001b[0m\u001b[1;33m.\u001b[0m\u001b[0mjoin\u001b[0m\u001b[1;33m(\u001b[0m\u001b[0mtable\u001b[0m\u001b[1;33m[\u001b[0m\u001b[1;36m0\u001b[0m\u001b[1;33m]\u001b[0m\u001b[1;33m.\u001b[0m\u001b[0mLetters\u001b[0m\u001b[1;33m[\u001b[0m\u001b[1;36m5\u001b[0m\u001b[1;33m]\u001b[0m\u001b[1;33m)\u001b[0m\u001b[1;33m.\u001b[0m\u001b[0mjoin\u001b[0m\u001b[1;33m(\u001b[0m\u001b[0mtable\u001b[0m\u001b[1;33m[\u001b[0m\u001b[1;36m0\u001b[0m\u001b[1;33m]\u001b[0m\u001b[1;33m.\u001b[0m\u001b[0mLetters\u001b[0m\u001b[1;33m[\u001b[0m\u001b[1;36m6\u001b[0m\u001b[1;33m]\u001b[0m\u001b[1;33m)\u001b[0m\u001b[1;33m.\u001b[0m\u001b[0mencode\u001b[0m\u001b[1;33m(\u001b[0m\u001b[1;33m)\u001b[0m\u001b[1;33m\u001b[0m\u001b[1;33m\u001b[0m\u001b[0m\n\u001b[0m",
      "\u001b[1;31mTypeError\u001b[0m: sequence item 0: expected a bytes-like object, str found"
     ]
    }
   ],
   "source": [
    "b=b.join(table[0].Letters[4]).join(table[0].Letters[5]).join(table[0].Letters[6]).encode()"
   ]
  },
  {
   "cell_type": "code",
   "execution_count": 42,
   "metadata": {},
   "outputs": [
    {
     "data": {
      "text/html": [
       "<div>\n",
       "<style scoped>\n",
       "    .dataframe tbody tr th:only-of-type {\n",
       "        vertical-align: middle;\n",
       "    }\n",
       "\n",
       "    .dataframe tbody tr th {\n",
       "        vertical-align: top;\n",
       "    }\n",
       "\n",
       "    .dataframe thead th {\n",
       "        text-align: right;\n",
       "    }\n",
       "</style>\n",
       "<table border=\"1\" class=\"dataframe\">\n",
       "  <thead>\n",
       "    <tr style=\"text-align: right;\">\n",
       "      <th></th>\n",
       "      <th>Letters</th>\n",
       "      <th>Arabic chat alphabet[8]</th>\n",
       "    </tr>\n",
       "  </thead>\n",
       "  <tbody>\n",
       "    <tr>\n",
       "      <th>0</th>\n",
       "      <td>'\"`UNIQ--templatestyles-0000000C-QINU`\"'ء أ ...</td>\n",
       "      <td>2</td>\n",
       "    </tr>\n",
       "    <tr>\n",
       "      <th>1</th>\n",
       "      <td>ا‎</td>\n",
       "      <td>a e è [1]</td>\n",
       "    </tr>\n",
       "    <tr>\n",
       "      <th>2</th>\n",
       "      <td>ب‎</td>\n",
       "      <td>b p</td>\n",
       "    </tr>\n",
       "    <tr>\n",
       "      <th>3</th>\n",
       "      <td>ت‎</td>\n",
       "      <td>t</td>\n",
       "    </tr>\n",
       "    <tr>\n",
       "      <th>4</th>\n",
       "      <td>ث‎</td>\n",
       "      <td>s th</td>\n",
       "    </tr>\n",
       "    <tr>\n",
       "      <th>5</th>\n",
       "      <td>ج‎</td>\n",
       "      <td>j dj g</td>\n",
       "    </tr>\n",
       "    <tr>\n",
       "      <th>6</th>\n",
       "      <td>ح‎</td>\n",
       "      <td>7</td>\n",
       "    </tr>\n",
       "    <tr>\n",
       "      <th>7</th>\n",
       "      <td>خ‎</td>\n",
       "      <td>kh 7' 5</td>\n",
       "    </tr>\n",
       "    <tr>\n",
       "      <th>8</th>\n",
       "      <td>د‎</td>\n",
       "      <td>d</td>\n",
       "    </tr>\n",
       "    <tr>\n",
       "      <th>9</th>\n",
       "      <td>ذ‎</td>\n",
       "      <td>z th dh</td>\n",
       "    </tr>\n",
       "    <tr>\n",
       "      <th>10</th>\n",
       "      <td>ر‎</td>\n",
       "      <td>r</td>\n",
       "    </tr>\n",
       "    <tr>\n",
       "      <th>11</th>\n",
       "      <td>ز‎</td>\n",
       "      <td>z</td>\n",
       "    </tr>\n",
       "    <tr>\n",
       "      <th>12</th>\n",
       "      <td>س‎</td>\n",
       "      <td>s</td>\n",
       "    </tr>\n",
       "    <tr>\n",
       "      <th>13</th>\n",
       "      <td>ش‎</td>\n",
       "      <td>sh ch [1]</td>\n",
       "    </tr>\n",
       "    <tr>\n",
       "      <th>14</th>\n",
       "      <td>ص‎</td>\n",
       "      <td>s 9</td>\n",
       "    </tr>\n",
       "    <tr>\n",
       "      <th>15</th>\n",
       "      <td>ض‎</td>\n",
       "      <td>d dh 9'</td>\n",
       "    </tr>\n",
       "    <tr>\n",
       "      <th>16</th>\n",
       "      <td>ط‎</td>\n",
       "      <td>t 6</td>\n",
       "    </tr>\n",
       "    <tr>\n",
       "      <th>17</th>\n",
       "      <td>ظ‎</td>\n",
       "      <td>z th dh 6'</td>\n",
       "    </tr>\n",
       "    <tr>\n",
       "      <th>18</th>\n",
       "      <td>ع‎</td>\n",
       "      <td>3</td>\n",
       "    </tr>\n",
       "    <tr>\n",
       "      <th>19</th>\n",
       "      <td>غ‎</td>\n",
       "      <td>gh 3'</td>\n",
       "    </tr>\n",
       "    <tr>\n",
       "      <th>20</th>\n",
       "      <td>ف‎</td>\n",
       "      <td>f v</td>\n",
       "    </tr>\n",
       "    <tr>\n",
       "      <th>21</th>\n",
       "      <td>ق‎</td>\n",
       "      <td>2 g 8 9 q</td>\n",
       "    </tr>\n",
       "    <tr>\n",
       "      <th>22</th>\n",
       "      <td>ك‎</td>\n",
       "      <td>k g</td>\n",
       "    </tr>\n",
       "    <tr>\n",
       "      <th>23</th>\n",
       "      <td>ل‎</td>\n",
       "      <td>l</td>\n",
       "    </tr>\n",
       "    <tr>\n",
       "      <th>24</th>\n",
       "      <td>م‎</td>\n",
       "      <td>m</td>\n",
       "    </tr>\n",
       "    <tr>\n",
       "      <th>25</th>\n",
       "      <td>ن‎</td>\n",
       "      <td>n</td>\n",
       "    </tr>\n",
       "    <tr>\n",
       "      <th>26</th>\n",
       "      <td>ه‎</td>\n",
       "      <td>h a e ah eh é [1]</td>\n",
       "    </tr>\n",
       "    <tr>\n",
       "      <th>27</th>\n",
       "      <td>ة‎</td>\n",
       "      <td>a e eh at et é [1]</td>\n",
       "    </tr>\n",
       "    <tr>\n",
       "      <th>28</th>\n",
       "      <td>و‎</td>\n",
       "      <td>w o ou oo u</td>\n",
       "    </tr>\n",
       "    <tr>\n",
       "      <th>29</th>\n",
       "      <td>ي‎ ى‎ [2]</td>\n",
       "      <td>y i ee ei ai a é [1]</td>\n",
       "    </tr>\n",
       "  </tbody>\n",
       "</table>\n",
       "</div>"
      ],
      "text/plain": [
       "                                              Letters Arabic chat alphabet[8]\n",
       "0   '\"`UNIQ--templatestyles-0000000C-QINU`\"'ء أ ...                       2\n",
       "1                                                  ا‎               a e è [1]\n",
       "2                                                  ب‎                     b p\n",
       "3                                                  ت‎                       t\n",
       "4                                                  ث‎                    s th\n",
       "5                                                  ج‎                  j dj g\n",
       "6                                                  ح‎                       7\n",
       "7                                                  خ‎                 kh 7' 5\n",
       "8                                                  د‎                       d\n",
       "9                                                  ذ‎                 z th dh\n",
       "10                                                 ر‎                       r\n",
       "11                                                 ز‎                       z\n",
       "12                                                 س‎                       s\n",
       "13                                                 ش‎               sh ch [1]\n",
       "14                                                 ص‎                     s 9\n",
       "15                                                 ض‎                 d dh 9'\n",
       "16                                                 ط‎                     t 6\n",
       "17                                                 ظ‎              z th dh 6'\n",
       "18                                                 ع‎                       3\n",
       "19                                                 غ‎                   gh 3'\n",
       "20                                                 ف‎                     f v\n",
       "21                                                 ق‎               2 g 8 9 q\n",
       "22                                                 ك‎                     k g\n",
       "23                                                 ل‎                       l\n",
       "24                                                 م‎                       m\n",
       "25                                                 ن‎                       n\n",
       "26                                                 ه‎       h a e ah eh é [1]\n",
       "27                                                 ة‎      a e eh at et é [1]\n",
       "28                                                 و‎             w o ou oo u\n",
       "29                                          ي‎ ى‎ [2]    y i ee ei ai a é [1]"
      ]
     },
     "execution_count": 42,
     "metadata": {},
     "output_type": "execute_result"
    }
   ],
   "source": [
    "table[0]"
   ]
  },
  {
   "cell_type": "code",
   "execution_count": 91,
   "metadata": {},
   "outputs": [],
   "source": [
    "arabizi_dict={'2':[u\"\\u0621\",u\"\\u0622\",u\"\\u0623\",u\"\\u0624\",u\"\\u0625\",u\"\\u0626\"],\n",
    "              'b':u\"\\u0628\",\n",
    "              'p':u\"\\u0628\",\n",
    "              't':u\"\\u062A\",\n",
    "              's':[u\"\\u062B\",u\"\\u0633\",u\"\\u0635\"],\n",
    "              'th':[u\"\\u062B\",u\"\\u0630\",u\"\\u0638\"],\n",
    "              'a':[u\"\\u0627\",u\"\\u0647\",u\"\\u0629\"],\n",
    "              'e':[u\"\\u0627\",u\"\\u0647\",u\"\\u0629\"],\n",
    "              u\"\\u00e9\":[u\"\\u0627\",u\"\\u0647\",u\"\\u0629\"],\n",
    "              'j':u\"\\u062C\",\n",
    "              'dj':u\"\\u062C\",\n",
    "              'g':[u\"\\u062C\",u\"\\u0642\",u\"\\u0643\"],\n",
    "              '7':u\"\\u062D\",\n",
    "              \"7'\":u\"\\u062E\",\n",
    "              'kh':u\"\\u062E\",\n",
    "              '5':u\"\\u062E\",\n",
    "              'd':[u\"\\u062F\",u\"\\u0636\"],\n",
    "              'z':[u\"\\u0630\",u\"\\u0632\"],\n",
    "                'dh':[u\"\\u0630\",u\"\\u0636\",u\"\\u0638\"],\n",
    "                'sh': u\"\\u0634\",\n",
    "                'ch': u\"\\u0634\",\n",
    "                '9': u\"\\u0635\",\n",
    "                \"9'\": u\"\\u0636\",\n",
    "                '6': u\"\\u0637\",\n",
    "                \"6'\": u\"\\u0638\",\n",
    "                '3': u\"\\u0639\",\n",
    "                \"3'\": u\"\\u063A\",\n",
    "                'gh': u\"\\u063A\",\n",
    "                'f' : u\"\\u0641\",\n",
    "                'v' : u\"\\u0641\",\n",
    "                '8' : u\"\\u0642\",\n",
    "                '9' : u\"\\u0642\",\n",
    "                'q' : u\"\\u0642\",\n",
    "                'k' : u\"\\u0643\",\n",
    "                'l' : u\"\\u0644\",\n",
    "                'm' : u\"\\u0645\",\n",
    "                'n' : u\"\\u0646\",\n",
    "                'w' : u\"\\u0648\",\n",
    "                'o' : u\"\\u0648\",\n",
    "                'ou': u\"\\u0648\",\n",
    "                'oo': u\"\\u0648\",\n",
    "                'u' : u\"\\u0648\",\n",
    "                'y' : u\"\\u064A\",\n",
    "                'i' : u\"\\u064A\",\n",
    "                'ee': u\"\\u064A\",\n",
    "                'ei' : u\"\\u064A\",\n",
    "                'ai' : u\"\\u064A\",\n",
    "                'ah':[u\"\\u0647\",u\"\\u0629\"],\n",
    "                'eh': [u\"\\u0647\",u\"\\u0629\"],\n",
    "                'et': u\"\\u0629\"\n",
    "\n",
    "             }"
   ]
  },
  {
   "cell_type": "code",
   "execution_count": 97,
   "metadata": {},
   "outputs": [
    {
     "data": {
      "text/plain": [
       "'ق'"
      ]
     },
     "execution_count": 97,
     "metadata": {},
     "output_type": "execute_result"
    }
   ],
   "source": [
    "arabizi_dict[\"8\"]"
   ]
  },
  {
   "cell_type": "code",
   "execution_count": 68,
   "metadata": {},
   "outputs": [
    {
     "name": "stdout",
     "output_type": "stream",
     "text": [
      "é\n"
     ]
    }
   ],
   "source": [
    "print(u\"\\u00e9\")"
   ]
  },
  {
   "cell_type": "code",
   "execution_count": null,
   "metadata": {},
   "outputs": [],
   "source": []
  }
 ],
 "metadata": {
  "kernelspec": {
   "display_name": "Python 3",
   "language": "python",
   "name": "python3"
  },
  "language_info": {
   "codemirror_mode": {
    "name": "ipython",
    "version": 3
   },
   "file_extension": ".py",
   "mimetype": "text/x-python",
   "name": "python",
   "nbconvert_exporter": "python",
   "pygments_lexer": "ipython3",
   "version": "3.8.5"
  }
 },
 "nbformat": 4,
 "nbformat_minor": 4
}
